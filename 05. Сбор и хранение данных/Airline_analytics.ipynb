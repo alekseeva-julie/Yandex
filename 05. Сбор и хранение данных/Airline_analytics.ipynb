{
 "cells": [
  {
   "cell_type": "markdown",
   "metadata": {},
   "source": [
    "# Аналитика в авиакомпании"
   ]
  },
  {
   "cell_type": "markdown",
   "metadata": {},
   "source": [
    "Компания «F9» — это российская авиакомпания, выполняющая внутренние пассажирские авиаперевозки. Сотни перелётов каждый день. \n",
    "\n",
    "Необходимо понять предпочтения пользователей, покупающих билеты на те или иные направления. \n",
    "\n",
    "В рамках данного исследования изучим базу данных и проанализируем спрос пассажиров на рейсы в города, где проходят крупнейшие фестивали.\n",
    "\n",
    "Исходя из поставленных целей и задач разделим исследование на несколько частей:\n",
    "\n",
    "[Часть 1. Изучение общей информации](#1.) \n",
    "* [1.1. Загрузка библиотек, импорт файлов с данными.](#1.1.)\n",
    "* [1.2. Изучение общей информации о данных.](#1.2.)\n",
    "* [1.3. Преобразование типа данных.](#1.3.)\n",
    "\n",
    "[Часть 2. Исследовательский анализ данных](#2.)\n",
    "* [2.1. Топ-10 городов по количеству рейсов.](#2.1.)\n",
    "* [2.2. Зависимость количества рейсов от модели самолетов.](#2.2.)\n",
    "* [2.3. Зависимость количества рейсов от города.](#2.3.)\n",
    "* [2.4. Зависимость количества рейсов от топ-10 городов.](#2.4.)\n",
    "\n",
    "В заключении сделаем выводы и поясним полученнеы результаты."
   ]
  },
  {
   "cell_type": "markdown",
   "metadata": {},
   "source": [
    "### Часть 1. Изучение общей информации"
   ]
  },
  {
   "cell_type": "markdown",
   "metadata": {},
   "source": [
    "#### 1.1. Загрузка библиотек, импорт файлов с данными <a id='1.1.'></a> \n",
    "\n",
    "Загрузим необходимые библиотеки и считаем csv файлы."
   ]
  },
  {
   "cell_type": "code",
   "execution_count": 2,
   "metadata": {},
   "outputs": [],
   "source": [
    "# Импортируем библиотеки, необходимые для исследования\n",
    "import pandas as pd\n",
    "import matplotlib.pyplot as plt\n",
    "import seaborn as sns"
   ]
  },
  {
   "cell_type": "code",
   "execution_count": 3,
   "metadata": {},
   "outputs": [
    {
     "data": {
      "text/html": [
       "<div>\n",
       "<style scoped>\n",
       "    .dataframe tbody tr th:only-of-type {\n",
       "        vertical-align: middle;\n",
       "    }\n",
       "\n",
       "    .dataframe tbody tr th {\n",
       "        vertical-align: top;\n",
       "    }\n",
       "\n",
       "    .dataframe thead th {\n",
       "        text-align: right;\n",
       "    }\n",
       "</style>\n",
       "<table border=\"1\" class=\"dataframe\">\n",
       "  <thead>\n",
       "    <tr style=\"text-align: right;\">\n",
       "      <th></th>\n",
       "      <th>model</th>\n",
       "      <th>flights_amount</th>\n",
       "    </tr>\n",
       "  </thead>\n",
       "  <tbody>\n",
       "    <tr>\n",
       "      <td>6</td>\n",
       "      <td>Cessna 208 Caravan</td>\n",
       "      <td>4557</td>\n",
       "    </tr>\n",
       "    <tr>\n",
       "      <td>5</td>\n",
       "      <td>Bombardier CRJ-200</td>\n",
       "      <td>4446</td>\n",
       "    </tr>\n",
       "    <tr>\n",
       "      <td>7</td>\n",
       "      <td>Sukhoi SuperJet-100</td>\n",
       "      <td>4185</td>\n",
       "    </tr>\n",
       "    <tr>\n",
       "      <td>1</td>\n",
       "      <td>Airbus A321-200</td>\n",
       "      <td>960</td>\n",
       "    </tr>\n",
       "    <tr>\n",
       "      <td>2</td>\n",
       "      <td>Boeing 737-300</td>\n",
       "      <td>630</td>\n",
       "    </tr>\n",
       "    <tr>\n",
       "      <td>0</td>\n",
       "      <td>Airbus A319-100</td>\n",
       "      <td>607</td>\n",
       "    </tr>\n",
       "    <tr>\n",
       "      <td>3</td>\n",
       "      <td>Boeing 767-300</td>\n",
       "      <td>600</td>\n",
       "    </tr>\n",
       "    <tr>\n",
       "      <td>4</td>\n",
       "      <td>Boeing 777-300</td>\n",
       "      <td>300</td>\n",
       "    </tr>\n",
       "  </tbody>\n",
       "</table>\n",
       "</div>"
      ],
      "text/plain": [
       "                 model  flights_amount\n",
       "6   Cessna 208 Caravan            4557\n",
       "5   Bombardier CRJ-200            4446\n",
       "7  Sukhoi SuperJet-100            4185\n",
       "1      Airbus A321-200             960\n",
       "2       Boeing 737-300             630\n",
       "0      Airbus A319-100             607\n",
       "3       Boeing 767-300             600\n",
       "4       Boeing 777-300             300"
      ]
     },
     "execution_count": 3,
     "metadata": {},
     "output_type": "execute_result"
    }
   ],
   "source": [
    "# Прочитаем результат первого запроса методом read_csv и посмотрим на датафейм\n",
    "model = pd.read_csv('/datasets/query_1.csv').sort_values(by='flights_amount', ascending=False)\n",
    "model"
   ]
  },
  {
   "cell_type": "code",
   "execution_count": 4,
   "metadata": {},
   "outputs": [
    {
     "data": {
      "text/html": [
       "<div>\n",
       "<style scoped>\n",
       "    .dataframe tbody tr th:only-of-type {\n",
       "        vertical-align: middle;\n",
       "    }\n",
       "\n",
       "    .dataframe tbody tr th {\n",
       "        vertical-align: top;\n",
       "    }\n",
       "\n",
       "    .dataframe thead th {\n",
       "        text-align: right;\n",
       "    }\n",
       "</style>\n",
       "<table border=\"1\" class=\"dataframe\">\n",
       "  <thead>\n",
       "    <tr style=\"text-align: right;\">\n",
       "      <th></th>\n",
       "      <th>city</th>\n",
       "      <th>average_flights</th>\n",
       "    </tr>\n",
       "  </thead>\n",
       "  <tbody>\n",
       "    <tr>\n",
       "      <td>43</td>\n",
       "      <td>Москва</td>\n",
       "      <td>129.774194</td>\n",
       "    </tr>\n",
       "    <tr>\n",
       "      <td>70</td>\n",
       "      <td>Санкт-Петербург</td>\n",
       "      <td>31.161290</td>\n",
       "    </tr>\n",
       "    <tr>\n",
       "      <td>54</td>\n",
       "      <td>Новосибирск</td>\n",
       "      <td>17.322581</td>\n",
       "    </tr>\n",
       "    <tr>\n",
       "      <td>33</td>\n",
       "      <td>Красноярск</td>\n",
       "      <td>11.580645</td>\n",
       "    </tr>\n",
       "    <tr>\n",
       "      <td>20</td>\n",
       "      <td>Екатеринбург</td>\n",
       "      <td>11.322581</td>\n",
       "    </tr>\n",
       "  </tbody>\n",
       "</table>\n",
       "</div>"
      ],
      "text/plain": [
       "               city  average_flights\n",
       "43           Москва       129.774194\n",
       "70  Санкт-Петербург        31.161290\n",
       "54      Новосибирск        17.322581\n",
       "33       Красноярск        11.580645\n",
       "20     Екатеринбург        11.322581"
      ]
     },
     "execution_count": 4,
     "metadata": {},
     "output_type": "execute_result"
    }
   ],
   "source": [
    "# Прочитаем результат третьего запроса методом read_csv и посмотрим на первые 5 строк с помощью метода head\n",
    "city = pd.read_csv('/datasets/query_3.csv').sort_values(by='average_flights', ascending=False)\n",
    "city.head()"
   ]
  },
  {
   "cell_type": "markdown",
   "metadata": {},
   "source": [
    "#### 1.2. Изучение общей информации о данных <a id='1.2.'></a>"
   ]
  },
  {
   "cell_type": "markdown",
   "metadata": {},
   "source": [
    "Рассмотрим более подробно общую информацию о датасете model, его признакам и их типам."
   ]
  },
  {
   "cell_type": "code",
   "execution_count": 5,
   "metadata": {},
   "outputs": [
    {
     "name": "stdout",
     "output_type": "stream",
     "text": [
      "<class 'pandas.core.frame.DataFrame'>\n",
      "Int64Index: 8 entries, 6 to 4\n",
      "Data columns (total 2 columns):\n",
      "model             8 non-null object\n",
      "flights_amount    8 non-null int64\n",
      "dtypes: int64(1), object(1)\n",
      "memory usage: 192.0+ bytes\n"
     ]
    }
   ],
   "source": [
    "# Посмотрим общую информацию о датафрейме model, воспользовавшись методом info\n",
    "model.info()"
   ]
  },
  {
   "cell_type": "code",
   "execution_count": 6,
   "metadata": {},
   "outputs": [
    {
     "data": {
      "text/html": [
       "<div>\n",
       "<style scoped>\n",
       "    .dataframe tbody tr th:only-of-type {\n",
       "        vertical-align: middle;\n",
       "    }\n",
       "\n",
       "    .dataframe tbody tr th {\n",
       "        vertical-align: top;\n",
       "    }\n",
       "\n",
       "    .dataframe thead th {\n",
       "        text-align: right;\n",
       "    }\n",
       "</style>\n",
       "<table border=\"1\" class=\"dataframe\">\n",
       "  <thead>\n",
       "    <tr style=\"text-align: right;\">\n",
       "      <th></th>\n",
       "      <th>0</th>\n",
       "      <th>1</th>\n",
       "      <th>2</th>\n",
       "      <th>3</th>\n",
       "      <th>4</th>\n",
       "      <th>5</th>\n",
       "      <th>6</th>\n",
       "      <th>7</th>\n",
       "    </tr>\n",
       "  </thead>\n",
       "  <tbody>\n",
       "    <tr>\n",
       "      <td>index</td>\n",
       "      <td>count</td>\n",
       "      <td>mean</td>\n",
       "      <td>std</td>\n",
       "      <td>min</td>\n",
       "      <td>25%</td>\n",
       "      <td>50%</td>\n",
       "      <td>75%</td>\n",
       "      <td>max</td>\n",
       "    </tr>\n",
       "    <tr>\n",
       "      <td>flights_amount</td>\n",
       "      <td>8</td>\n",
       "      <td>2035.62</td>\n",
       "      <td>1965.2</td>\n",
       "      <td>300</td>\n",
       "      <td>605.25</td>\n",
       "      <td>795</td>\n",
       "      <td>4250.25</td>\n",
       "      <td>4557</td>\n",
       "    </tr>\n",
       "  </tbody>\n",
       "</table>\n",
       "</div>"
      ],
      "text/plain": [
       "                    0        1       2    3       4    5        6     7\n",
       "index           count     mean     std  min     25%  50%      75%   max\n",
       "flights_amount      8  2035.62  1965.2  300  605.25  795  4250.25  4557"
      ]
     },
     "execution_count": 6,
     "metadata": {},
     "output_type": "execute_result"
    }
   ],
   "source": [
    "# Рассмотрим основные статистические характеристики данных датафрейма model по каждому числовому признаку методом describe \n",
    "model.describe().reset_index().transpose()"
   ]
  },
  {
   "cell_type": "code",
   "execution_count": 7,
   "metadata": {},
   "outputs": [
    {
     "name": "stdout",
     "output_type": "stream",
     "text": [
      "Количество дубликатов в исходных данных: 0\n"
     ]
    }
   ],
   "source": [
    "# Проверим данные датафрейма model на наличие дубликатов, вызвав метод duplicated()\n",
    "print('Количество дубликатов в исходных данных:', model.duplicated().sum())"
   ]
  },
  {
   "cell_type": "markdown",
   "metadata": {},
   "source": [
    "Рассмотрим детально, какие столбцы и какую информацию содержит датасет model:\n",
    "\n",
    "- model — модель самолета  \n",
    "- flights_amount — количество рейсов для каждой модели самолетов model в сентябре 2018 года  \n",
    "\n",
    "Пропусков и дубликатов датасет не содержит, все данные приведены к корректным типам, что позволяет нам продожить дальнейшую работу с данными без внесения каких-либо изменений.\n",
    "\n",
    "Рассмотрим более подробно общую информацию о датасете city, его признакам и их типам."
   ]
  },
  {
   "cell_type": "code",
   "execution_count": 7,
   "metadata": {},
   "outputs": [
    {
     "name": "stdout",
     "output_type": "stream",
     "text": [
      "<class 'pandas.core.frame.DataFrame'>\n",
      "Int64Index: 101 entries, 43 to 49\n",
      "Data columns (total 2 columns):\n",
      "city               101 non-null object\n",
      "average_flights    101 non-null float64\n",
      "dtypes: float64(1), object(1)\n",
      "memory usage: 2.4+ KB\n"
     ]
    }
   ],
   "source": [
    "# Посмотрим общую информацию о датафрейме city, воспользовавшись методом info\n",
    "city.info()"
   ]
  },
  {
   "cell_type": "code",
   "execution_count": 8,
   "metadata": {},
   "outputs": [
    {
     "data": {
      "text/html": [
       "<div>\n",
       "<style scoped>\n",
       "    .dataframe tbody tr th:only-of-type {\n",
       "        vertical-align: middle;\n",
       "    }\n",
       "\n",
       "    .dataframe tbody tr th {\n",
       "        vertical-align: top;\n",
       "    }\n",
       "\n",
       "    .dataframe thead th {\n",
       "        text-align: right;\n",
       "    }\n",
       "</style>\n",
       "<table border=\"1\" class=\"dataframe\">\n",
       "  <thead>\n",
       "    <tr style=\"text-align: right;\">\n",
       "      <th></th>\n",
       "      <th>0</th>\n",
       "      <th>1</th>\n",
       "      <th>2</th>\n",
       "      <th>3</th>\n",
       "      <th>4</th>\n",
       "      <th>5</th>\n",
       "      <th>6</th>\n",
       "      <th>7</th>\n",
       "    </tr>\n",
       "  </thead>\n",
       "  <tbody>\n",
       "    <tr>\n",
       "      <td>index</td>\n",
       "      <td>count</td>\n",
       "      <td>mean</td>\n",
       "      <td>std</td>\n",
       "      <td>min</td>\n",
       "      <td>25%</td>\n",
       "      <td>50%</td>\n",
       "      <td>75%</td>\n",
       "      <td>max</td>\n",
       "    </tr>\n",
       "    <tr>\n",
       "      <td>average_flights</td>\n",
       "      <td>101</td>\n",
       "      <td>5.49419</td>\n",
       "      <td>13.1198</td>\n",
       "      <td>1</td>\n",
       "      <td>2</td>\n",
       "      <td>3</td>\n",
       "      <td>5.87097</td>\n",
       "      <td>129.774</td>\n",
       "    </tr>\n",
       "  </tbody>\n",
       "</table>\n",
       "</div>"
      ],
      "text/plain": [
       "                     0        1        2    3    4    5        6        7\n",
       "index            count     mean      std  min  25%  50%      75%      max\n",
       "average_flights    101  5.49419  13.1198    1    2    3  5.87097  129.774"
      ]
     },
     "execution_count": 8,
     "metadata": {},
     "output_type": "execute_result"
    }
   ],
   "source": [
    "# Рассмотрим основные статистические характеристики данных датафрейма city по каждому числовому признаку методом describe \n",
    "city.describe().reset_index().transpose()"
   ]
  },
  {
   "cell_type": "code",
   "execution_count": 9,
   "metadata": {},
   "outputs": [
    {
     "name": "stdout",
     "output_type": "stream",
     "text": [
      "Количество дубликатов в исходных данных: 0\n"
     ]
    }
   ],
   "source": [
    "# Проверим данные датафрейма model на наличие дубликатов, вызвав метод duplicated()\n",
    "print('Количество дубликатов в исходных данных:', city.duplicated().sum())"
   ]
  },
  {
   "cell_type": "markdown",
   "metadata": {},
   "source": [
    "Разберем более подробно, какие столбцы и какую информацию содержит датасет city:\n",
    "\n",
    "- city — город\n",
    "- average_flights — среднее количестве рейсов, прибывающих в город city за день в августе 2018 года\n",
    "\n",
    "Пропусков и дубликатов обнаружено не было.  \n",
    "\n",
    "Типы данных обозначены верно, но для дальнейшего удобства и большей наглядности, можно привести значения показателя average_flights к 2 знакам после запятой. "
   ]
  },
  {
   "cell_type": "markdown",
   "metadata": {},
   "source": [
    "#### 1.3. Преобразование типа данных <a id='1.3.'></a>"
   ]
  },
  {
   "cell_type": "markdown",
   "metadata": {},
   "source": [
    "Приведем данные столбца 'average_flights' датасета city к сотым значениям после запятой для большего удобства работы с ними."
   ]
  },
  {
   "cell_type": "code",
   "execution_count": 10,
   "metadata": {},
   "outputs": [
    {
     "data": {
      "text/html": [
       "<div>\n",
       "<style scoped>\n",
       "    .dataframe tbody tr th:only-of-type {\n",
       "        vertical-align: middle;\n",
       "    }\n",
       "\n",
       "    .dataframe tbody tr th {\n",
       "        vertical-align: top;\n",
       "    }\n",
       "\n",
       "    .dataframe thead th {\n",
       "        text-align: right;\n",
       "    }\n",
       "</style>\n",
       "<table border=\"1\" class=\"dataframe\">\n",
       "  <thead>\n",
       "    <tr style=\"text-align: right;\">\n",
       "      <th></th>\n",
       "      <th>city</th>\n",
       "      <th>average_flights</th>\n",
       "    </tr>\n",
       "  </thead>\n",
       "  <tbody>\n",
       "    <tr>\n",
       "      <td>43</td>\n",
       "      <td>Москва</td>\n",
       "      <td>129.77</td>\n",
       "    </tr>\n",
       "    <tr>\n",
       "      <td>70</td>\n",
       "      <td>Санкт-Петербург</td>\n",
       "      <td>31.16</td>\n",
       "    </tr>\n",
       "    <tr>\n",
       "      <td>54</td>\n",
       "      <td>Новосибирск</td>\n",
       "      <td>17.32</td>\n",
       "    </tr>\n",
       "    <tr>\n",
       "      <td>33</td>\n",
       "      <td>Красноярск</td>\n",
       "      <td>11.58</td>\n",
       "    </tr>\n",
       "    <tr>\n",
       "      <td>20</td>\n",
       "      <td>Екатеринбург</td>\n",
       "      <td>11.32</td>\n",
       "    </tr>\n",
       "  </tbody>\n",
       "</table>\n",
       "</div>"
      ],
      "text/plain": [
       "               city  average_flights\n",
       "43           Москва           129.77\n",
       "70  Санкт-Петербург            31.16\n",
       "54      Новосибирск            17.32\n",
       "33       Красноярск            11.58\n",
       "20     Екатеринбург            11.32"
      ]
     },
     "execution_count": 10,
     "metadata": {},
     "output_type": "execute_result"
    }
   ],
   "source": [
    "# Приведем данные показателя average_flights к двум знакам после плавающей запятой\n",
    "pd.set_option('display.float_format','{:.2f}'.format)\n",
    "city.head()"
   ]
  },
  {
   "cell_type": "markdown",
   "metadata": {},
   "source": [
    "### Часть 2. Исследовательский анализ данных"
   ]
  },
  {
   "cell_type": "markdown",
   "metadata": {},
   "source": [
    "#### 2.1. Топ-10 городов по количеству рейсов <a id='2.1.'></a>"
   ]
  },
  {
   "cell_type": "markdown",
   "metadata": {},
   "source": [
    "Найдем топ-10 городов по среднему количеству совершенных рейсов за день в августе 2018 года."
   ]
  },
  {
   "cell_type": "code",
   "execution_count": 11,
   "metadata": {
    "scrolled": true
   },
   "outputs": [
    {
     "data": {
      "text/html": [
       "<div>\n",
       "<style scoped>\n",
       "    .dataframe tbody tr th:only-of-type {\n",
       "        vertical-align: middle;\n",
       "    }\n",
       "\n",
       "    .dataframe tbody tr th {\n",
       "        vertical-align: top;\n",
       "    }\n",
       "\n",
       "    .dataframe thead th {\n",
       "        text-align: right;\n",
       "    }\n",
       "</style>\n",
       "<table border=\"1\" class=\"dataframe\">\n",
       "  <thead>\n",
       "    <tr style=\"text-align: right;\">\n",
       "      <th></th>\n",
       "      <th>city</th>\n",
       "      <th>average_flights</th>\n",
       "    </tr>\n",
       "  </thead>\n",
       "  <tbody>\n",
       "    <tr>\n",
       "      <td>43</td>\n",
       "      <td>Москва</td>\n",
       "      <td>129.77</td>\n",
       "    </tr>\n",
       "    <tr>\n",
       "      <td>70</td>\n",
       "      <td>Санкт-Петербург</td>\n",
       "      <td>31.16</td>\n",
       "    </tr>\n",
       "    <tr>\n",
       "      <td>54</td>\n",
       "      <td>Новосибирск</td>\n",
       "      <td>17.32</td>\n",
       "    </tr>\n",
       "    <tr>\n",
       "      <td>33</td>\n",
       "      <td>Красноярск</td>\n",
       "      <td>11.58</td>\n",
       "    </tr>\n",
       "    <tr>\n",
       "      <td>20</td>\n",
       "      <td>Екатеринбург</td>\n",
       "      <td>11.32</td>\n",
       "    </tr>\n",
       "    <tr>\n",
       "      <td>67</td>\n",
       "      <td>Ростов-на-Дону</td>\n",
       "      <td>10.19</td>\n",
       "    </tr>\n",
       "    <tr>\n",
       "      <td>63</td>\n",
       "      <td>Пермь</td>\n",
       "      <td>10.13</td>\n",
       "    </tr>\n",
       "    <tr>\n",
       "      <td>10</td>\n",
       "      <td>Брянск</td>\n",
       "      <td>10.00</td>\n",
       "    </tr>\n",
       "    <tr>\n",
       "      <td>74</td>\n",
       "      <td>Сочи</td>\n",
       "      <td>9.61</td>\n",
       "    </tr>\n",
       "    <tr>\n",
       "      <td>84</td>\n",
       "      <td>Ульяновск</td>\n",
       "      <td>9.58</td>\n",
       "    </tr>\n",
       "  </tbody>\n",
       "</table>\n",
       "</div>"
      ],
      "text/plain": [
       "               city  average_flights\n",
       "43           Москва           129.77\n",
       "70  Санкт-Петербург            31.16\n",
       "54      Новосибирск            17.32\n",
       "33       Красноярск            11.58\n",
       "20     Екатеринбург            11.32\n",
       "67   Ростов-на-Дону            10.19\n",
       "63            Пермь            10.13\n",
       "10           Брянск            10.00\n",
       "74             Сочи             9.61\n",
       "84        Ульяновск             9.58"
      ]
     },
     "execution_count": 11,
     "metadata": {},
     "output_type": "execute_result"
    }
   ],
   "source": [
    "# Запишем в переменную top_cities 10 городов с наибольшим средним количестом рейсов\n",
    "top_cities = city.nlargest(10, 'average_flights', keep='first')\n",
    "\n",
    "# Выведем полученный результат\n",
    "top_cities"
   ]
  },
  {
   "cell_type": "markdown",
   "metadata": {},
   "source": [
    "#### 2.2. Зависимость количества рейсов от модели самолетов <a id='2.2.'></a>"
   ]
  },
  {
   "cell_type": "markdown",
   "metadata": {},
   "source": [
    "Найдем зависимость количества рейсов, приходящихся на сентябрь 2018 года, от модели самолетов."
   ]
  },
  {
   "cell_type": "code",
   "execution_count": 12,
   "metadata": {
    "scrolled": true
   },
   "outputs": [
    {
     "data": {
      "image/png": "[encoded data removed]",
      "text/plain": [
       "<Figure size 1152x360 with 1 Axes>"
      ]
     },
     "metadata": {
      "needs_background": "light"
     },
     "output_type": "display_data"
    }
   ],
   "source": [
    "# Построим столбчатцю диаграмму \n",
    "plt.figure(figsize=(16,5)) \n",
    "sns.barplot(x='model', y='flights_amount', data=model, palette=\"vlag\")\n",
    "plt.title(\"Модели самолетов vs количество рейсов\")\n",
    "plt.xlabel(\"Модель самолёта\")\n",
    "plt.ylabel(\"Количество рейсов, сентябрь 2018 г.\")\n",
    "plt.show()"
   ]
  },
  {
   "cell_type": "markdown",
   "metadata": {},
   "source": [
    "Лидером данного рейтинга явлется - Cessna 208 Caravan. Это региональный, ближнемагистральный / узкофюзеляжный самолёт. Максимальное количество пассажиров до 14.  \n",
    "Второе место занимает - Bombardier CRJ-200. Это региональный реактивный узкофюзеляжный самолет, который может выполнять рейсы в условиях высокогорных аэродромов и сложных метеоусловиях, что немаловажно для России. Данная модификация самолета позволяет перевозить в его салоне - до 50 пассажирова.  \n",
    "Третье место среди лидеров занимает - Sukhoi SuperJet-100. Это отечественный двухмоторный авиалайнер, рассчитанный на перевозку 98 (до 108) пассажиров на дальность 3000 или 4600 км.  \n",
    "Иными словами, наибольшее количество рейсов приходится на модели самолетов малой вместимости."
   ]
  },
  {
   "cell_type": "markdown",
   "metadata": {},
   "source": [
    "#### 2.3. Зависимость количества рейсов от города <a id='2.3.'></a>"
   ]
  },
  {
   "cell_type": "markdown",
   "metadata": {},
   "source": [
    "Найдем зависимость среднего количества рейсов, совершенных за один день и приходящихся на август 2018 года, от города прилета."
   ]
  },
  {
   "cell_type": "code",
   "execution_count": 13,
   "metadata": {
    "scrolled": false
   },
   "outputs": [
    {
     "data": {
      "image/png": "[encoded data removed]",
      "text/plain": [
       "<Figure size 1152x360 with 1 Axes>"
      ]
     },
     "metadata": {
      "needs_background": "light"
     },
     "output_type": "display_data"
    }
   ],
   "source": [
    "# Построим столбчатую диаграмму\n",
    "plt.figure(figsize=(16,5)) \n",
    "sns.barplot(x='city', y='average_flights', data=city, palette=\"vlag\")\n",
    "plt.title(\"Города vs количество рейсов\")\n",
    "plt.xlabel(\"Город\")\n",
    "plt.xticks(rotation=90)\n",
    "plt.ylabel(\"Количество рейсов, август 2018 г.\")\n",
    "plt.show()"
   ]
  },
  {
   "cell_type": "markdown",
   "metadata": {},
   "source": [
    "Количество совершенных пассажирских рейсов в тот или иной город сильно разнится и на это могут оказывать влияние следующие причины: количество аэропортов, находящихся в городе; количество трансферных полетов; тот факт, что появились направления, которые отсутствовали десятилетиями - Абакан, Новокузнецк, Томск и пр.; на некоторых внутренних направлениях авиакомпаниям приходится конкурировать с очень развитым железнодорожным сообщением и т.д."
   ]
  },
  {
   "cell_type": "markdown",
   "metadata": {},
   "source": [
    "#### 2.4. Зависимость количества рейсов от топ-10 городов <a id='2.4.'></a>"
   ]
  },
  {
   "cell_type": "markdown",
   "metadata": {},
   "source": [
    "Построим график зависимости количества рейсов, приходящихся на август 2018 года, от топ-10 городов прилета."
   ]
  },
  {
   "cell_type": "code",
   "execution_count": 14,
   "metadata": {
    "scrolled": true
   },
   "outputs": [
    {
     "data": {
      "image/png": "[encoded data removed]",
      "text/plain": [
       "<Figure size 1152x360 with 1 Axes>"
      ]
     },
     "metadata": {
      "needs_background": "light"
     },
     "output_type": "display_data"
    }
   ],
   "source": [
    "# Построим столбчатую диаграмму\n",
    "plt.figure(figsize=(16,5)) \n",
    "sns.barplot(x='city', y='average_flights', data=top_cities, palette=\"vlag\")\n",
    "plt.title(\"Топ-10 городов vs количество рейсов\")\n",
    "plt.xlabel(\"Топ-10 городов\")\n",
    "plt.ylabel(\"Количество рейсов, август 2018 г.\")\n",
    "plt.show()"
   ]
  },
  {
   "cell_type": "markdown",
   "metadata": {},
   "source": [
    "Доминирует по количеству совершенных рейсов город Москва и это вполне логично. Московский авиационный узел играет важнейшую роль для всего воздушного транспорта России и других стран, т.к. часто является промежуточным звеном для путешествия людей из менее населенных и развитых в плане авиасообщения городов.  \n",
    "Второе место отводится культурной столице - городу Санк-Петербург. Несмотря на то, что показатели этого города в разы маньше, чем у лидера, причина популярности аналогичная.  \n",
    "На третьем месте находится Новосибирск — третий город России по населению с международным аэропортом Толмачёво, крупнейшим за Уралом транзитныйм авиаузлом на важнейших направлениях между Европой и Азией. То есть изначально база авиационных пассажиров здесь выше, чем в любом соседнем городе. Если потенциал выше, значит и интерес авиакомпаний больше. А это, в свою очередь, формирует более конкурентную среду, которая позволяет, с одной стороны, формировать более низкие тарифы, с другой — более разветвленную маршрутную сеть.  \n",
    "Остальные города из топ-10 имеют примерно одинаковые показатели выполненных рейсов."
   ]
  },
  {
   "cell_type": "markdown",
   "metadata": {},
   "source": [
    "### Общий вывод"
   ]
  },
  {
   "cell_type": "markdown",
   "metadata": {},
   "source": [
    "В рамках данной работы мы изучили исходные данные, проверили их на пропуски, дубликаты, их типы на корректность и внесли изменения там, где это было небходимо.\n",
    "\n",
    "В процессе работы мы построили несколько графиков и изучили с их помощью зависимости: модели самолетов и количество рейсов, города и количество рейсов, топ-10 городов и количество рейсов.\n",
    "\n",
    "Из построенных графиков сделали вывод, что абсолютными лидерами по количеству совершенных рейсов являются модели самолетов малой вместимости (примерно до 100 пассажиров): Cessna 208 Caravan, Bombardier CRJ-200 и Sukhoi SuperJet-100. \n",
    "\n",
    "На количество рейсов, совершенных за один день в августе 2018 года, оказывает влияние ряд факторов, но все же можно выделить абсолютных лидеров по среднему количеству рейсов, ими стали: Москва, Санкт-Петербург и Новосибирск - крупнейшие региональные и международные узлы России."
   ]
  }
 ],
 "metadata": {
  "kernelspec": {
   "display_name": "Python 3",
   "language": "python",
   "name": "python3"
  },
  "language_info": {
   "codemirror_mode": {
    "name": "ipython",
    "version": 3
   },
   "file_extension": ".py",
   "mimetype": "text/x-python",
   "name": "python",
   "nbconvert_exporter": "python",
   "pygments_lexer": "ipython3",
   "version": "3.7.8"
  },
  "toc": {
   "base_numbering": 1,
   "nav_menu": {},
   "number_sections": false,
   "sideBar": true,
   "skip_h1_title": false,
   "title_cell": "Table of Contents",
   "title_sidebar": "Contents",
   "toc_cell": false,
   "toc_position": {},
   "toc_section_display": true,
   "toc_window_display": false
  }
 },
 "nbformat": 4,
 "nbformat_minor": 2
}
