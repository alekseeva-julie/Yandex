{
 "cells": [
  {
   "cell_type": "markdown",
   "metadata": {},
   "source": [
    "# Рынок заведений общественного питания Москвы"
   ]
  },
  {
   "cell_type": "markdown",
   "metadata": {},
   "source": [
    "Было принято решение открыть небольшое кафе в Москве. Оно оригинальное — гостей должны обслуживать роботы. Проект многообещающий, но дорогой. Вместе с партнёрами решили обратиться к инвесторам. Их интересует текущее положение дел на рынке — сможем ли мы снискать популярность на долгое время, когда все зеваки насмотрятся на роботов-официантов?\n",
    "\n",
    "По просьбе партнеров необходимо подготовить исследование рынка.   \n",
    "\n",
    "В нашем распоряжении есть открытые данные о заведениях общественного питания в Москве (rest_data):\n",
    "\n",
    "id — идентификатор объекта;  \n",
    "object_name — название объекта общественного питания;  \n",
    "chain — сетевой ресторан;  \n",
    "object_type — тип объекта общественного питания;  \n",
    "address — адрес;  \n",
    "number — количество посадочных мест.  \n",
    "\n",
    "Исходя из вышесказанного разделим данное исследование на несколько частей.\n",
    "\n",
    "[Часть 1. Изучение общей информации](#1.)\n",
    "* [1.1. Загрузка библиотек, импорт файлов с данными](#1.1.)\n",
    "* [1.2. Получение общей информации о данных, поиск пропусков и дубликатов](#1.2.)\n",
    "\n",
    "[Часть 2. Анализ данных](#2.)\n",
    "* [2.1. Соотношение видов объектов общественного питания по количеству](#2.1.)\n",
    "* [2.2. Соотношение сетевых и несетевых заведений по количеству](#2.2.)\n",
    "* [2.3. Вид объекта общественного питания, для которого характерно сетевое распространение](#2.3.)\n",
    "* [2.4. Характерные особенности сетевых заведений: их количество и число посадочных мест](#2.4.)\n",
    "* [2.5. Среднее количество посадочных мест для каждого вида заведений](#2.5.)\n",
    "* [2.6. Местонахождение объектов общественного питания](#2.6.)\n",
    "* [2.7. Топ-10 улиц Москвы по количеству объектов общественного питания](#2.7.)\n",
    "* [2.8. Число улиц Москвы с одним объектом общественного питания](#2.8.)\n",
    "* [2.9. Закономерности распределения количества посадочных мест для топ-10 улиц Москвы](#2.9.)\n",
    "\n",
    "[Часть 3. Презентация](#3.)\n",
    "\n",
    "В завершении сделаем общий вывод и дадим рекомендации о виде заведения, количестве посадочных мест, а также районе расположения, а также прокомментируем возможность развития сети."
   ]
  },
  {
   "cell_type": "markdown",
   "metadata": {},
   "source": [
    "### Часть 1. Изучение общей информации\n",
    "\n",
    "В данной части исследования загрузим данные о заведениях общественного питания Москвы. Убедимся, что тип данных в каждой колонке — правильный, а также отсутствуют пропущенные значения и дубликаты. При необходимости - обработаем исходные данные."
   ]
  },
  {
   "cell_type": "markdown",
   "metadata": {},
   "source": [
    "#### 1.1. Загрузка библиотек, импорт файлов с данными <a id='1.1.'></a> "
   ]
  },
  {
   "cell_type": "code",
   "execution_count": 1,
   "metadata": {},
   "outputs": [],
   "source": [
    "# Импортируем необходимые библиотеки\n",
    "import pandas as pd\n",
    "import numpy as np\n",
    "import re\n",
    "from io import BytesIO\n",
    "import requests\n",
    "\n",
    "import matplotlib.pyplot as plt\n",
    "import seaborn as sns"
   ]
  },
  {
   "cell_type": "code",
   "execution_count": 2,
   "metadata": {},
   "outputs": [
    {
     "data": {
      "text/html": [
       "<div>\n",
       "<style scoped>\n",
       "    .dataframe tbody tr th:only-of-type {\n",
       "        vertical-align: middle;\n",
       "    }\n",
       "\n",
       "    .dataframe tbody tr th {\n",
       "        vertical-align: top;\n",
       "    }\n",
       "\n",
       "    .dataframe thead th {\n",
       "        text-align: right;\n",
       "    }\n",
       "</style>\n",
       "<table border=\"1\" class=\"dataframe\">\n",
       "  <thead>\n",
       "    <tr style=\"text-align: right;\">\n",
       "      <th></th>\n",
       "      <th>id</th>\n",
       "      <th>object_name</th>\n",
       "      <th>chain</th>\n",
       "      <th>object_type</th>\n",
       "      <th>address</th>\n",
       "      <th>number</th>\n",
       "    </tr>\n",
       "  </thead>\n",
       "  <tbody>\n",
       "    <tr>\n",
       "      <td>10934</td>\n",
       "      <td>189466</td>\n",
       "      <td>Кафе «Березка»</td>\n",
       "      <td>нет</td>\n",
       "      <td>кафе</td>\n",
       "      <td>город Москва, Касимовская улица, дом 31, корпус 1</td>\n",
       "      <td>26</td>\n",
       "    </tr>\n",
       "    <tr>\n",
       "      <td>1676</td>\n",
       "      <td>25619</td>\n",
       "      <td>Шоколадница</td>\n",
       "      <td>да</td>\n",
       "      <td>кафе</td>\n",
       "      <td>город Москва, Зелёный проспект, дом 22</td>\n",
       "      <td>49</td>\n",
       "    </tr>\n",
       "    <tr>\n",
       "      <td>9291</td>\n",
       "      <td>166927</td>\n",
       "      <td>Larionov Grill and Bar</td>\n",
       "      <td>нет</td>\n",
       "      <td>кафе</td>\n",
       "      <td>город Москва, Профсоюзная улица, дом 76</td>\n",
       "      <td>40</td>\n",
       "    </tr>\n",
       "    <tr>\n",
       "      <td>3256</td>\n",
       "      <td>27349</td>\n",
       "      <td>Столовая ГБОУ Школа № 1560 «Лидер»</td>\n",
       "      <td>нет</td>\n",
       "      <td>столовая</td>\n",
       "      <td>город Москва, Новохорошёвский проезд, дом 12</td>\n",
       "      <td>250</td>\n",
       "    </tr>\n",
       "    <tr>\n",
       "      <td>6009</td>\n",
       "      <td>72656</td>\n",
       "      <td>KFC</td>\n",
       "      <td>да</td>\n",
       "      <td>предприятие быстрого обслуживания</td>\n",
       "      <td>город Москва, Волгоградский проспект, дом 166,...</td>\n",
       "      <td>100</td>\n",
       "    </tr>\n",
       "  </tbody>\n",
       "</table>\n",
       "</div>"
      ],
      "text/plain": [
       "           id                         object_name chain  \\\n",
       "10934  189466                      Кафе «Березка»   нет   \n",
       "1676    25619                         Шоколадница    да   \n",
       "9291   166927              Larionov Grill and Bar   нет   \n",
       "3256    27349  Столовая ГБОУ Школа № 1560 «Лидер»   нет   \n",
       "6009    72656                                 KFC    да   \n",
       "\n",
       "                             object_type  \\\n",
       "10934                               кафе   \n",
       "1676                                кафе   \n",
       "9291                                кафе   \n",
       "3256                            столовая   \n",
       "6009   предприятие быстрого обслуживания   \n",
       "\n",
       "                                                 address  number  \n",
       "10934  город Москва, Касимовская улица, дом 31, корпус 1      26  \n",
       "1676              город Москва, Зелёный проспект, дом 22      49  \n",
       "9291             город Москва, Профсоюзная улица, дом 76      40  \n",
       "3256        город Москва, Новохорошёвский проезд, дом 12     250  \n",
       "6009   город Москва, Волгоградский проспект, дом 166,...     100  "
      ]
     },
     "execution_count": 2,
     "metadata": {},
     "output_type": "execute_result"
    }
   ],
   "source": [
    "# Прочитаем данные методом read_csv и посмотрим на исхдный датафейм\n",
    "rest_data = pd.read_csv('/datasets/rest_data.csv')\n",
    "rest_data.sample(5)"
   ]
  },
  {
   "cell_type": "markdown",
   "metadata": {},
   "source": [
    "#### 1.2. Получение общей информации о данных, поиск пропусков и дубликатов <a id='1.2.'></a> "
   ]
  },
  {
   "cell_type": "markdown",
   "metadata": {},
   "source": [
    "Посмотрим общую информацию о датафрейме и всем признакам и их типам, воспользовавшись методом info."
   ]
  },
  {
   "cell_type": "code",
   "execution_count": 3,
   "metadata": {},
   "outputs": [
    {
     "name": "stdout",
     "output_type": "stream",
     "text": [
      "<class 'pandas.core.frame.DataFrame'>\n",
      "RangeIndex: 15366 entries, 0 to 15365\n",
      "Data columns (total 6 columns):\n",
      "id             15366 non-null int64\n",
      "object_name    15366 non-null object\n",
      "chain          15366 non-null object\n",
      "object_type    15366 non-null object\n",
      "address        15366 non-null object\n",
      "number         15366 non-null int64\n",
      "dtypes: int64(2), object(4)\n",
      "memory usage: 720.4+ KB\n"
     ]
    }
   ],
   "source": [
    "# Посмотрим общую информацию о датафрейме методом info()\n",
    "rest_data.info()"
   ]
  },
  {
   "cell_type": "markdown",
   "metadata": {},
   "source": [
    "Проверим наличие дупликатов в исходных данных, предварительно приведя все значения строковых параметров к нижнему регистру."
   ]
  },
  {
   "cell_type": "code",
   "execution_count": 4,
   "metadata": {},
   "outputs": [
    {
     "data": {
      "text/html": [
       "<div>\n",
       "<style scoped>\n",
       "    .dataframe tbody tr th:only-of-type {\n",
       "        vertical-align: middle;\n",
       "    }\n",
       "\n",
       "    .dataframe tbody tr th {\n",
       "        vertical-align: top;\n",
       "    }\n",
       "\n",
       "    .dataframe thead th {\n",
       "        text-align: right;\n",
       "    }\n",
       "</style>\n",
       "<table border=\"1\" class=\"dataframe\">\n",
       "  <thead>\n",
       "    <tr style=\"text-align: right;\">\n",
       "      <th></th>\n",
       "      <th>id</th>\n",
       "      <th>object_name</th>\n",
       "      <th>chain</th>\n",
       "      <th>object_type</th>\n",
       "      <th>address</th>\n",
       "      <th>number</th>\n",
       "    </tr>\n",
       "  </thead>\n",
       "  <tbody>\n",
       "    <tr>\n",
       "      <td>0</td>\n",
       "      <td>151635</td>\n",
       "      <td>сметана</td>\n",
       "      <td>нет</td>\n",
       "      <td>кафе</td>\n",
       "      <td>город москва, улица егора абакумова, дом 9</td>\n",
       "      <td>48</td>\n",
       "    </tr>\n",
       "    <tr>\n",
       "      <td>1</td>\n",
       "      <td>77874</td>\n",
       "      <td>родник</td>\n",
       "      <td>нет</td>\n",
       "      <td>кафе</td>\n",
       "      <td>город москва, улица талалихина, дом 2/1, корпус 1</td>\n",
       "      <td>35</td>\n",
       "    </tr>\n",
       "    <tr>\n",
       "      <td>2</td>\n",
       "      <td>24309</td>\n",
       "      <td>кафе «академия»</td>\n",
       "      <td>нет</td>\n",
       "      <td>кафе</td>\n",
       "      <td>город москва, абельмановская улица, дом 6</td>\n",
       "      <td>95</td>\n",
       "    </tr>\n",
       "    <tr>\n",
       "      <td>3</td>\n",
       "      <td>21894</td>\n",
       "      <td>пиццетория</td>\n",
       "      <td>да</td>\n",
       "      <td>кафе</td>\n",
       "      <td>город москва, абрамцевская улица, дом 1</td>\n",
       "      <td>40</td>\n",
       "    </tr>\n",
       "    <tr>\n",
       "      <td>4</td>\n",
       "      <td>119365</td>\n",
       "      <td>кафе «вишневая метель»</td>\n",
       "      <td>нет</td>\n",
       "      <td>кафе</td>\n",
       "      <td>город москва, абрамцевская улица, дом 9, корпус 1</td>\n",
       "      <td>50</td>\n",
       "    </tr>\n",
       "  </tbody>\n",
       "</table>\n",
       "</div>"
      ],
      "text/plain": [
       "       id             object_name chain object_type  \\\n",
       "0  151635                 сметана   нет        кафе   \n",
       "1   77874                  родник   нет        кафе   \n",
       "2   24309         кафе «академия»   нет        кафе   \n",
       "3   21894              пиццетория    да        кафе   \n",
       "4  119365  кафе «вишневая метель»   нет        кафе   \n",
       "\n",
       "                                             address  number  \n",
       "0         город москва, улица егора абакумова, дом 9      48  \n",
       "1  город москва, улица талалихина, дом 2/1, корпус 1      35  \n",
       "2          город москва, абельмановская улица, дом 6      95  \n",
       "3            город москва, абрамцевская улица, дом 1      40  \n",
       "4  город москва, абрамцевская улица, дом 9, корпус 1      50  "
      ]
     },
     "execution_count": 4,
     "metadata": {},
     "output_type": "execute_result"
    }
   ],
   "source": [
    "# Приведем значения строковых полей к нижнему регистру \n",
    "rest_data['object_name'] = rest_data['object_name'].str.lower()\n",
    "rest_data['chain'] = rest_data['chain'].str.lower()\n",
    "rest_data['object_type'] = rest_data['object_type'].str.lower()\n",
    "rest_data['address'] = rest_data['address'].str.lower()\n",
    "\n",
    "# Выведем на экран первые 5 строк датафрейма\n",
    "rest_data.head()"
   ]
  },
  {
   "cell_type": "code",
   "execution_count": 5,
   "metadata": {},
   "outputs": [
    {
     "name": "stdout",
     "output_type": "stream",
     "text": [
      "Количество дубликатов в исходных данных: 0\n"
     ]
    }
   ],
   "source": [
    "# Избавимся от дупликатов в данных\n",
    "rest_data = rest_data.drop_duplicates(['object_name', 'chain', 'object_type', 'address', 'number'])\n",
    "\n",
    "# Выведем на экран результаты проверки дупликатов\n",
    "print('Количество дубликатов в исходных данных:', rest_data.duplicated().sum())"
   ]
  },
  {
   "cell_type": "markdown",
   "metadata": {},
   "source": [
    "Изучим более подробно все уникальные значения поля принадлежности объекта к сети общественного питания и уникальные значения типа объекта общественного питания."
   ]
  },
  {
   "cell_type": "code",
   "execution_count": 6,
   "metadata": {},
   "outputs": [
    {
     "data": {
      "text/plain": [
       "array(['нет', 'да'], dtype=object)"
      ]
     },
     "execution_count": 6,
     "metadata": {},
     "output_type": "execute_result"
    }
   ],
   "source": [
    "# Найдем все уникальные значения принадлежности объекта к сети общественного питания методом unique()\n",
    "rest_data['chain'].unique()"
   ]
  },
  {
   "cell_type": "code",
   "execution_count": 7,
   "metadata": {},
   "outputs": [
    {
     "data": {
      "text/plain": [
       "array(['кафе', 'столовая', 'закусочная',\n",
       "       'предприятие быстрого обслуживания', 'ресторан', 'кафетерий',\n",
       "       'буфет', 'бар', 'магазин (отдел кулинарии)'], dtype=object)"
      ]
     },
     "execution_count": 7,
     "metadata": {},
     "output_type": "execute_result"
    }
   ],
   "source": [
    "# Найдем все уникальные значения типа объекта общественного питания методом unique()\n",
    "rest_data['object_type'].unique()"
   ]
  },
  {
   "cell_type": "markdown",
   "metadata": {},
   "source": [
    "Посмотрим основные статистические характеристики исходных данных по каждому числовому признаку."
   ]
  },
  {
   "cell_type": "code",
   "execution_count": 8,
   "metadata": {},
   "outputs": [
    {
     "data": {
      "text/plain": [
       "count    15281.000000\n",
       "mean        59.788234\n",
       "std         74.843042\n",
       "min          0.000000\n",
       "25%         14.000000\n",
       "50%         40.000000\n",
       "75%         80.000000\n",
       "max       1700.000000\n",
       "Name: number, dtype: float64"
      ]
     },
     "execution_count": 8,
     "metadata": {},
     "output_type": "execute_result"
    }
   ],
   "source": [
    "# Рассмотрим обсновные характеристики количества посадочных мест методом describe()\n",
    "rest_data['number'].describe()"
   ]
  },
  {
   "cell_type": "markdown",
   "metadata": {},
   "source": [
    "Рассмотрим более подробно заведения без посадочных мест и попробуем найти причины или понять закономерности их отсутствия."
   ]
  },
  {
   "cell_type": "code",
   "execution_count": 9,
   "metadata": {},
   "outputs": [
    {
     "data": {
      "text/html": [
       "<div>\n",
       "<style scoped>\n",
       "    .dataframe tbody tr th:only-of-type {\n",
       "        vertical-align: middle;\n",
       "    }\n",
       "\n",
       "    .dataframe tbody tr th {\n",
       "        vertical-align: top;\n",
       "    }\n",
       "\n",
       "    .dataframe thead th {\n",
       "        text-align: right;\n",
       "    }\n",
       "</style>\n",
       "<table border=\"1\" class=\"dataframe\">\n",
       "  <thead>\n",
       "    <tr style=\"text-align: right;\">\n",
       "      <th></th>\n",
       "      <th>id</th>\n",
       "      <th>object_name</th>\n",
       "      <th>chain</th>\n",
       "      <th>object_type</th>\n",
       "      <th>address</th>\n",
       "      <th>number</th>\n",
       "    </tr>\n",
       "  </thead>\n",
       "  <tbody>\n",
       "    <tr>\n",
       "      <td>240</td>\n",
       "      <td>154738</td>\n",
       "      <td>пекарня</td>\n",
       "      <td>нет</td>\n",
       "      <td>предприятие быстрого обслуживания</td>\n",
       "      <td>город москва, улица гастелло, дом 37</td>\n",
       "      <td>0</td>\n",
       "    </tr>\n",
       "    <tr>\n",
       "      <td>15105</td>\n",
       "      <td>219032</td>\n",
       "      <td>бургер кинг</td>\n",
       "      <td>да</td>\n",
       "      <td>ресторан</td>\n",
       "      <td>город москва, улица вавилова, дом 3</td>\n",
       "      <td>0</td>\n",
       "    </tr>\n",
       "    <tr>\n",
       "      <td>10943</td>\n",
       "      <td>183315</td>\n",
       "      <td>шаверма</td>\n",
       "      <td>нет</td>\n",
       "      <td>предприятие быстрого обслуживания</td>\n",
       "      <td>город москва, улица москворечье, дом 14</td>\n",
       "      <td>0</td>\n",
       "    </tr>\n",
       "    <tr>\n",
       "      <td>15122</td>\n",
       "      <td>213380</td>\n",
       "      <td>крошка картошка</td>\n",
       "      <td>да</td>\n",
       "      <td>предприятие быстрого обслуживания</td>\n",
       "      <td>город москва, варшавское шоссе, дом 87б</td>\n",
       "      <td>0</td>\n",
       "    </tr>\n",
       "    <tr>\n",
       "      <td>15177</td>\n",
       "      <td>211690</td>\n",
       "      <td>кофе с собой</td>\n",
       "      <td>да</td>\n",
       "      <td>предприятие быстрого обслуживания</td>\n",
       "      <td>город москва, проспект андропова, дом 25а, стр...</td>\n",
       "      <td>0</td>\n",
       "    </tr>\n",
       "  </tbody>\n",
       "</table>\n",
       "</div>"
      ],
      "text/plain": [
       "           id      object_name chain                        object_type  \\\n",
       "240    154738          пекарня   нет  предприятие быстрого обслуживания   \n",
       "15105  219032      бургер кинг    да                           ресторан   \n",
       "10943  183315          шаверма   нет  предприятие быстрого обслуживания   \n",
       "15122  213380  крошка картошка    да  предприятие быстрого обслуживания   \n",
       "15177  211690     кофе с собой    да  предприятие быстрого обслуживания   \n",
       "\n",
       "                                                 address  number  \n",
       "240                 город москва, улица гастелло, дом 37       0  \n",
       "15105                город москва, улица вавилова, дом 3       0  \n",
       "10943            город москва, улица москворечье, дом 14       0  \n",
       "15122            город москва, варшавское шоссе, дом 87б       0  \n",
       "15177  город москва, проспект андропова, дом 25а, стр...       0  "
      ]
     },
     "execution_count": 9,
     "metadata": {},
     "output_type": "execute_result"
    }
   ],
   "source": [
    "# Рассмотрим детально заведения без посадочных мест, сделав срез методом query()\n",
    "rest_number = rest_data.query('number == 0')\n",
    "rest_number.sample(5)\n",
    "\n",
    "# rest_number['object_type'].value_counts().reset_index()"
   ]
  },
  {
   "cell_type": "markdown",
   "metadata": {},
   "source": [
    "Исходный датафрейм представлен 15366 строками и 6 столбцами - характеристиками предприятий общественного питания на территории Москвы. Каждая строка несет в себе информацию о конкретном объекте с указанием его идентификатора, названия, принадлежности к сетевой форме бизнеса, типа объекта, адреса местонахождения и количестве посадочных мест.  \n",
    "\n",
    "В процессе анализа исходных данных не было выявлено ни пропусков, ни дубликатов. \n",
    "\n",
    "Все типы данных указаны верно. Однако, есть вероятность того, что в дальнейшем нам потребуется привести значения \"нет\" и \"да\" параметра \"сетевой ресторан\" к логическом типу. Но, на данном этапе пока оставим все без изменений.  \n",
    "\n",
    "Для формирования более полного представления о данных, с которыми предстоит дальнейшая работа, были изучены все уникальные значения типа объектов общественного питания на предмет очень схожих по смыслу значений. Здесь можем с уверенностью сказать, что все типы уникальны и не дублируют друг друга. \n",
    "\n",
    "Также, более детально была изучена вместимость заведений, что позволило увидеть довольно большое количество объектов с количеством посадочных мест равным - 0. Однако, практически все эти результаты принадлежат предприятиям быстрого обслуживания, кафе, закусочным и магазинам (отделам кулинарии), которые зачастую реализуют свою продукция в целом не имея какого-либо помещения, либо находятся на фуд-кортах торговых центров и т.д. Иными словами, заведения без посадочных мест имеют одну отличительную черту - высокая пропускная способность, что в дальнейшем позволяет нам говорить об актуальности исходных данных и оставить нулевые значения без изменений."
   ]
  },
  {
   "cell_type": "markdown",
   "metadata": {},
   "source": [
    "### Часть 2. Анализ данных"
   ]
  },
  {
   "cell_type": "markdown",
   "metadata": {},
   "source": [
    "Данную часть анализа посвятим исследованию текущего положения дел среди объектов общественного питания столичного рынка. Здесь более подробно рассмотрим виды заведений, количество посадочных мест, географию их распределения и т.д.   \n",
    "По итогу получения результатов подведем итог и дадим рекомендации инвесторам о вхождении на рынок с собственным новым продуктом в сегменте общественного питания."
   ]
  },
  {
   "cell_type": "markdown",
   "metadata": {},
   "source": [
    "#### 2.1.  Соотношение видов объектов общественного питания по количеству  <a id='2.1.'></a> "
   ]
  },
  {
   "cell_type": "markdown",
   "metadata": {},
   "source": [
    "Начнем анализ исходных данных с определения количества объектов для каждого типа заведений и проанализируем полученные результаты, построив график."
   ]
  },
  {
   "cell_type": "code",
   "execution_count": 10,
   "metadata": {},
   "outputs": [
    {
     "data": {
      "text/html": [
       "<div>\n",
       "<style scoped>\n",
       "    .dataframe tbody tr th:only-of-type {\n",
       "        vertical-align: middle;\n",
       "    }\n",
       "\n",
       "    .dataframe tbody tr th {\n",
       "        vertical-align: top;\n",
       "    }\n",
       "\n",
       "    .dataframe thead th {\n",
       "        text-align: right;\n",
       "    }\n",
       "</style>\n",
       "<table border=\"1\" class=\"dataframe\">\n",
       "  <thead>\n",
       "    <tr style=\"text-align: right;\">\n",
       "      <th></th>\n",
       "      <th>object_type</th>\n",
       "      <th>count</th>\n",
       "    </tr>\n",
       "  </thead>\n",
       "  <tbody>\n",
       "    <tr>\n",
       "      <td>3</td>\n",
       "      <td>кафе</td>\n",
       "      <td>6071</td>\n",
       "    </tr>\n",
       "    <tr>\n",
       "      <td>7</td>\n",
       "      <td>столовая</td>\n",
       "      <td>2584</td>\n",
       "    </tr>\n",
       "    <tr>\n",
       "      <td>6</td>\n",
       "      <td>ресторан</td>\n",
       "      <td>2282</td>\n",
       "    </tr>\n",
       "    <tr>\n",
       "      <td>8</td>\n",
       "      <td>фаст-фуд</td>\n",
       "      <td>1897</td>\n",
       "    </tr>\n",
       "    <tr>\n",
       "      <td>0</td>\n",
       "      <td>бар</td>\n",
       "      <td>855</td>\n",
       "    </tr>\n",
       "    <tr>\n",
       "      <td>1</td>\n",
       "      <td>буфет</td>\n",
       "      <td>576</td>\n",
       "    </tr>\n",
       "    <tr>\n",
       "      <td>4</td>\n",
       "      <td>кафетерий</td>\n",
       "      <td>395</td>\n",
       "    </tr>\n",
       "    <tr>\n",
       "      <td>2</td>\n",
       "      <td>закусочная</td>\n",
       "      <td>348</td>\n",
       "    </tr>\n",
       "    <tr>\n",
       "      <td>5</td>\n",
       "      <td>магазин (отдел кулинарии)</td>\n",
       "      <td>273</td>\n",
       "    </tr>\n",
       "  </tbody>\n",
       "</table>\n",
       "</div>"
      ],
      "text/plain": [
       "                 object_type  count\n",
       "3                       кафе   6071\n",
       "7                   столовая   2584\n",
       "6                   ресторан   2282\n",
       "8                   фаст-фуд   1897\n",
       "0                        бар    855\n",
       "1                      буфет    576\n",
       "4                  кафетерий    395\n",
       "2                 закусочная    348\n",
       "5  магазин (отдел кулинарии)    273"
      ]
     },
     "execution_count": 10,
     "metadata": {},
     "output_type": "execute_result"
    }
   ],
   "source": [
    "# Проведем замену одного из значений столбца 'object_type'\n",
    "rest_data.loc[rest_data['object_type'] == \"предприятие быстрого обслуживания\", 'object_type'] = \"фаст-фуд\"\n",
    "\n",
    "# Найдем количество объектов для каждого типа заведения методом groupby()\n",
    "object_quantity = rest_data.\\\n",
    "                    groupby('object_type').\\\n",
    "                    agg({'id':'count'}).\\\n",
    "                    reset_index().\\\n",
    "                    sort_values(by='id', ascending=False)\n",
    "\n",
    "# Переименуем названия столбцов\n",
    "object_quantity.columns = ['object_type', 'count']\n",
    "\n",
    "# Выведем полученную сводную таблицу на экран\n",
    "object_quantity"
   ]
  },
  {
   "cell_type": "code",
   "execution_count": 34,
   "metadata": {},
   "outputs": [
    {
     "data": {
      "image/png": "[encoded data removed]",
      "text/plain": [
       "<Figure size 1152x432 with 1 Axes>"
      ]
     },
     "metadata": {
      "needs_background": "light"
     },
     "output_type": "display_data"
    }
   ],
   "source": [
    "# Построим столбчатую диаграмму для большей наглядности\n",
    "plt.figure(figsize=(16,6)) \n",
    "ax = sns.barplot(x='object_type', y='count', data=object_quantity, palette='coolwarm')\n",
    "sns.despine()\n",
    "for i in ax.patches:\n",
    "    ax.text(i.get_x()+0.18, i.get_height()+100, \\\n",
    "            str(i.get_height()), fontsize=12,\n",
    "                color='black')\n",
    "ax.set_title('Cоотношение видов объектов общественного питания')\n",
    "ax.set_xlabel('') \n",
    "ax.set_ylabel('Количество объектов общественного питания')\n",
    "plt.xticks(rotation=45)\n",
    "plt.show()"
   ]
  },
  {
   "cell_type": "markdown",
   "metadata": {},
   "source": [
    "Первое место по количеству заведений на московском рынке общепита среди всех видов заняли - кафе. Их доля составила почти 40% от всего объема рынка – почти 6100 заведений. Их популярность легко объяснить – быстрое обслуживание и доступная ценовая политика.  \n",
    "В тройку лидеров также вошли - столовые (доля рынка 16.9%) и рестораны (доля рынка 14.9%) с количеством заведений 2584 и, соответственно, 2282.  \n",
    "Полученные результаты легко объяснить ритмом жизни москвичей и их культурой питания вне дома."
   ]
  },
  {
   "cell_type": "markdown",
   "metadata": {},
   "source": [
    "#### 2.2.  Соотношение сетевых и несетевых заведений по количеству  <a id='2.2.'></a> "
   ]
  },
  {
   "cell_type": "markdown",
   "metadata": {},
   "source": [
    "Найдем долю сетевых заведений от общего количества предприятий общественного питания на рынке Москвы. "
   ]
  },
  {
   "cell_type": "code",
   "execution_count": 12,
   "metadata": {},
   "outputs": [
    {
     "data": {
      "text/html": [
       "<div>\n",
       "<style scoped>\n",
       "    .dataframe tbody tr th:only-of-type {\n",
       "        vertical-align: middle;\n",
       "    }\n",
       "\n",
       "    .dataframe tbody tr th {\n",
       "        vertical-align: top;\n",
       "    }\n",
       "\n",
       "    .dataframe thead th {\n",
       "        text-align: right;\n",
       "    }\n",
       "</style>\n",
       "<table border=\"1\" class=\"dataframe\">\n",
       "  <thead>\n",
       "    <tr style=\"text-align: right;\">\n",
       "      <th></th>\n",
       "      <th>index</th>\n",
       "      <th>chain</th>\n",
       "    </tr>\n",
       "  </thead>\n",
       "  <tbody>\n",
       "    <tr>\n",
       "      <td>0</td>\n",
       "      <td>да</td>\n",
       "      <td>2964</td>\n",
       "    </tr>\n",
       "    <tr>\n",
       "      <td>1</td>\n",
       "      <td>нет</td>\n",
       "      <td>12317</td>\n",
       "    </tr>\n",
       "  </tbody>\n",
       "</table>\n",
       "</div>"
      ],
      "text/plain": [
       "  index  chain\n",
       "0    да   2964\n",
       "1   нет  12317"
      ]
     },
     "execution_count": 12,
     "metadata": {},
     "output_type": "execute_result"
    }
   ],
   "source": [
    "# Найдем количество объектов методом value_counts()\n",
    "chain_companies = rest_data['chain'].value_counts(ascending=True)\n",
    "chain_companies.reset_index()"
   ]
  },
  {
   "cell_type": "code",
   "execution_count": 35,
   "metadata": {},
   "outputs": [
    {
     "data": {
      "image/png": "[encoded data removed]",
      "text/plain": [
       "<Figure size 504x504 with 1 Axes>"
      ]
     },
     "metadata": {},
     "output_type": "display_data"
    }
   ],
   "source": [
    "# Построим круговую диаграмму для большей наглядности\n",
    "plt.figure(figsize=(7,7))\n",
    "plt.pie(x = chain_companies, labels = chain_companies.index, autopct='%1.1f%%')\n",
    "plt.legend(loc='upper left', bbox_to_anchor=(1.1, 0.9))\n",
    "plt.title('Cоотношение сетевых и несетевых объектов общественного питания') \n",
    "plt.ylabel('') \n",
    "plt.show()"
   ]
  },
  {
   "cell_type": "markdown",
   "metadata": {},
   "source": [
    "На столичном рынке общепита лидирующую позицию занимают несетевые проекты, их доля составляет более 80% от рассматриваемых нами объектов. Такая популярность может быть обусловлена, например, тягой жителей к проектам с уникальной авторской концепцией и одновременно стартап-предложениями от гастроэнтузиастов.   \n",
    "В целом же жители Москвы, перенасытившись с течением времени предложениями от сетевых брендов, все чаще откликаются на все новые интересные и ранее неизвестные предложения на рынке."
   ]
  },
  {
   "cell_type": "markdown",
   "metadata": {},
   "source": [
    "#### 2.3.  Вид объекта общественного питания, для которого характерно сетевое распространение  <a id='2.3.'></a> "
   ]
  },
  {
   "cell_type": "markdown",
   "metadata": {},
   "source": [
    "По результатам, полученным от соотношения сетевых и несетевых заведений, мы выяснили, что на долю первых приходится в 4 раза меньше заведений (доля рынка 19.3%) от всего объема столичного рынка. Исходя из этого, интересно узнать, для какого типа заведений характерно сетевое распространение. Для этого по кажогому виду объекта общественного питания найдем долю сетевых заведений."
   ]
  },
  {
   "cell_type": "code",
   "execution_count": 14,
   "metadata": {},
   "outputs": [
    {
     "data": {
      "text/html": [
       "<div>\n",
       "<style scoped>\n",
       "    .dataframe tbody tr th:only-of-type {\n",
       "        vertical-align: middle;\n",
       "    }\n",
       "\n",
       "    .dataframe tbody tr th {\n",
       "        vertical-align: top;\n",
       "    }\n",
       "\n",
       "    .dataframe thead th {\n",
       "        text-align: right;\n",
       "    }\n",
       "</style>\n",
       "<table border=\"1\" class=\"dataframe\">\n",
       "  <thead>\n",
       "    <tr style=\"text-align: right;\">\n",
       "      <th></th>\n",
       "      <th>object_type</th>\n",
       "      <th>count</th>\n",
       "    </tr>\n",
       "  </thead>\n",
       "  <tbody>\n",
       "    <tr>\n",
       "      <td>3</td>\n",
       "      <td>кафе</td>\n",
       "      <td>1396</td>\n",
       "    </tr>\n",
       "    <tr>\n",
       "      <td>8</td>\n",
       "      <td>фаст-фуд</td>\n",
       "      <td>788</td>\n",
       "    </tr>\n",
       "    <tr>\n",
       "      <td>6</td>\n",
       "      <td>ресторан</td>\n",
       "      <td>543</td>\n",
       "    </tr>\n",
       "    <tr>\n",
       "      <td>5</td>\n",
       "      <td>магазин (отдел кулинарии)</td>\n",
       "      <td>78</td>\n",
       "    </tr>\n",
       "    <tr>\n",
       "      <td>2</td>\n",
       "      <td>закусочная</td>\n",
       "      <td>56</td>\n",
       "    </tr>\n",
       "    <tr>\n",
       "      <td>4</td>\n",
       "      <td>кафетерий</td>\n",
       "      <td>52</td>\n",
       "    </tr>\n",
       "    <tr>\n",
       "      <td>0</td>\n",
       "      <td>бар</td>\n",
       "      <td>37</td>\n",
       "    </tr>\n",
       "    <tr>\n",
       "      <td>1</td>\n",
       "      <td>буфет</td>\n",
       "      <td>11</td>\n",
       "    </tr>\n",
       "    <tr>\n",
       "      <td>7</td>\n",
       "      <td>столовая</td>\n",
       "      <td>3</td>\n",
       "    </tr>\n",
       "  </tbody>\n",
       "</table>\n",
       "</div>"
      ],
      "text/plain": [
       "                 object_type  count\n",
       "3                       кафе   1396\n",
       "8                   фаст-фуд    788\n",
       "6                   ресторан    543\n",
       "5  магазин (отдел кулинарии)     78\n",
       "2                 закусочная     56\n",
       "4                  кафетерий     52\n",
       "0                        бар     37\n",
       "1                      буфет     11\n",
       "7                   столовая      3"
      ]
     },
     "execution_count": 14,
     "metadata": {},
     "output_type": "execute_result"
    }
   ],
   "source": [
    "# Сделаем срез данных методом query()\n",
    "chain_member = rest_data.query('chain == \"да\"')\n",
    "\n",
    "# Найдем количество объектов методом value_counts()\n",
    "# chain_member['object_type'].value_counts().reset_index()\n",
    "chain_grouped = chain_member.\\\n",
    "                groupby('object_type').\\\n",
    "                agg({'id':'count'}).\\\n",
    "                reset_index().\\\n",
    "                sort_values(by='id', ascending=False)\n",
    "\n",
    "# Переименуем названия столбцов\n",
    "chain_grouped.columns = ['object_type', 'count']\n",
    "\n",
    "# Выведем полученную сводную таблицу на экран\n",
    "chain_grouped"
   ]
  },
  {
   "cell_type": "code",
   "execution_count": 15,
   "metadata": {},
   "outputs": [
    {
     "data": {
      "text/html": [
       "<div>\n",
       "<style scoped>\n",
       "    .dataframe tbody tr th:only-of-type {\n",
       "        vertical-align: middle;\n",
       "    }\n",
       "\n",
       "    .dataframe tbody tr th {\n",
       "        vertical-align: top;\n",
       "    }\n",
       "\n",
       "    .dataframe thead th {\n",
       "        text-align: right;\n",
       "    }\n",
       "</style>\n",
       "<table border=\"1\" class=\"dataframe\">\n",
       "  <thead>\n",
       "    <tr style=\"text-align: right;\">\n",
       "      <th></th>\n",
       "      <th>object_type</th>\n",
       "      <th>count</th>\n",
       "      <th>percent</th>\n",
       "    </tr>\n",
       "  </thead>\n",
       "  <tbody>\n",
       "    <tr>\n",
       "      <td>8</td>\n",
       "      <td>фаст-фуд</td>\n",
       "      <td>788</td>\n",
       "      <td>41.5</td>\n",
       "    </tr>\n",
       "    <tr>\n",
       "      <td>5</td>\n",
       "      <td>магазин (отдел кулинарии)</td>\n",
       "      <td>78</td>\n",
       "      <td>28.6</td>\n",
       "    </tr>\n",
       "    <tr>\n",
       "      <td>6</td>\n",
       "      <td>ресторан</td>\n",
       "      <td>543</td>\n",
       "      <td>23.8</td>\n",
       "    </tr>\n",
       "    <tr>\n",
       "      <td>3</td>\n",
       "      <td>кафе</td>\n",
       "      <td>1396</td>\n",
       "      <td>23.0</td>\n",
       "    </tr>\n",
       "    <tr>\n",
       "      <td>2</td>\n",
       "      <td>закусочная</td>\n",
       "      <td>56</td>\n",
       "      <td>16.1</td>\n",
       "    </tr>\n",
       "    <tr>\n",
       "      <td>4</td>\n",
       "      <td>кафетерий</td>\n",
       "      <td>52</td>\n",
       "      <td>13.2</td>\n",
       "    </tr>\n",
       "    <tr>\n",
       "      <td>0</td>\n",
       "      <td>бар</td>\n",
       "      <td>37</td>\n",
       "      <td>4.3</td>\n",
       "    </tr>\n",
       "    <tr>\n",
       "      <td>1</td>\n",
       "      <td>буфет</td>\n",
       "      <td>11</td>\n",
       "      <td>1.9</td>\n",
       "    </tr>\n",
       "    <tr>\n",
       "      <td>7</td>\n",
       "      <td>столовая</td>\n",
       "      <td>3</td>\n",
       "      <td>0.1</td>\n",
       "    </tr>\n",
       "  </tbody>\n",
       "</table>\n",
       "</div>"
      ],
      "text/plain": [
       "                 object_type  count  percent\n",
       "8                   фаст-фуд    788     41.5\n",
       "5  магазин (отдел кулинарии)     78     28.6\n",
       "6                   ресторан    543     23.8\n",
       "3                       кафе   1396     23.0\n",
       "2                 закусочная     56     16.1\n",
       "4                  кафетерий     52     13.2\n",
       "0                        бар     37      4.3\n",
       "1                      буфет     11      1.9\n",
       "7                   столовая      3      0.1"
      ]
     },
     "execution_count": 15,
     "metadata": {},
     "output_type": "execute_result"
    }
   ],
   "source": [
    "# Расчитаем процент сетевых брендов общественного питания среди всех объектов по каждому из видов заведений\n",
    "chain_grouped['percent'] = round(chain_grouped['count'] / object_quantity['count'] * 100, 1)\n",
    "chain_grouped = chain_grouped.sort_values(by='percent', ascending=False)\n",
    "chain_grouped"
   ]
  },
  {
   "cell_type": "markdown",
   "metadata": {},
   "source": [
    "Фаст-фуд – самый популярный формат объектов общественного питания. Более 40% заведений принадлежат сетям быстрого питания.  \n",
    "\n",
    "На втором и третьем месте данного рейтинга находятся:\n",
    "* магазины (отделы кулинарии) - их доля составляет почти 30%;\n",
    "* рестораны - количество заведений превышает 500 и их доля равна почти 24%."
   ]
  },
  {
   "cell_type": "markdown",
   "metadata": {},
   "source": [
    "#### 2.4. Характерные особенности сетевых заведений: их количество и число посадочных мест <a id='2.4.'></a> "
   ]
  },
  {
   "cell_type": "markdown",
   "metadata": {},
   "source": [
    "Узнаем что характерно для сетевых заведений: много заведений с небольшим числом посадочных мест в каждом или мало заведений с большим количеством посадочных мест. Для этого сгруппируем заведения по их названиям и найдем среднее значение количества посадочных мест по каждому из них."
   ]
  },
  {
   "cell_type": "code",
   "execution_count": 16,
   "metadata": {},
   "outputs": [
    {
     "data": {
      "text/html": [
       "<div>\n",
       "<style scoped>\n",
       "    .dataframe tbody tr th:only-of-type {\n",
       "        vertical-align: middle;\n",
       "    }\n",
       "\n",
       "    .dataframe tbody tr th {\n",
       "        vertical-align: top;\n",
       "    }\n",
       "\n",
       "    .dataframe thead th {\n",
       "        text-align: right;\n",
       "    }\n",
       "</style>\n",
       "<table border=\"1\" class=\"dataframe\">\n",
       "  <thead>\n",
       "    <tr style=\"text-align: right;\">\n",
       "      <th></th>\n",
       "      <th>object_name</th>\n",
       "      <th>object_count</th>\n",
       "      <th>seats_count</th>\n",
       "    </tr>\n",
       "  </thead>\n",
       "  <tbody>\n",
       "    <tr>\n",
       "      <td>207</td>\n",
       "      <td>кафе «бургер кинг»</td>\n",
       "      <td>3</td>\n",
       "      <td>50.0</td>\n",
       "    </tr>\n",
       "    <tr>\n",
       "      <td>227</td>\n",
       "      <td>кафе «пицца хат»</td>\n",
       "      <td>3</td>\n",
       "      <td>24.0</td>\n",
       "    </tr>\n",
       "    <tr>\n",
       "      <td>270</td>\n",
       "      <td>кафе шоколад</td>\n",
       "      <td>1</td>\n",
       "      <td>90.0</td>\n",
       "    </tr>\n",
       "    <tr>\n",
       "      <td>455</td>\n",
       "      <td>ресторан «хинкальная»</td>\n",
       "      <td>1</td>\n",
       "      <td>60.0</td>\n",
       "    </tr>\n",
       "    <tr>\n",
       "      <td>391</td>\n",
       "      <td>пиццерия «домино'с пицца»</td>\n",
       "      <td>5</td>\n",
       "      <td>15.0</td>\n",
       "    </tr>\n",
       "  </tbody>\n",
       "</table>\n",
       "</div>"
      ],
      "text/plain": [
       "                   object_name  object_count  seats_count\n",
       "207         кафе «бургер кинг»             3         50.0\n",
       "227           кафе «пицца хат»             3         24.0\n",
       "270               кафе шоколад             1         90.0\n",
       "455      ресторан «хинкальная»             1         60.0\n",
       "391  пиццерия «домино'с пицца»             5         15.0"
      ]
     },
     "execution_count": 16,
     "metadata": {},
     "output_type": "execute_result"
    }
   ],
   "source": [
    "# Сгруппируем заведения по названию и количеству посадочных мест методом groupby()\n",
    "chain_characteristic = chain_member.groupby('object_name').agg({'object_name':'count', 'number':'median'})\n",
    "\n",
    "# Переименуем названия столбцов в таблице\n",
    "chain_characteristic.columns = ['object_count', 'seats_count']\n",
    "\n",
    "# Выведем 5 случайных строк таблицы \n",
    "chain_characteristic.reset_index().sample(5)"
   ]
  },
  {
   "cell_type": "code",
   "execution_count": 17,
   "metadata": {},
   "outputs": [
    {
     "data": {
      "image/png": "[encoded data removed]",
      "text/plain": [
       "<Figure size 1152x432 with 1 Axes>"
      ]
     },
     "metadata": {
      "needs_background": "light"
     },
     "output_type": "display_data"
    }
   ],
   "source": [
    "# Построим диаграмму рассеяния для большей наглядности\n",
    "plt.figure(figsize=(16, 6))  \n",
    "ax = sns.scatterplot(x='seats_count', y='object_count', data=chain_characteristic, color='blue')\n",
    "ax.set_title('Распределение числа посадочных мест в сетевых заведениях')\n",
    "ax.set_xlabel('Количество посадочных мест')\n",
    "ax.set_ylabel('Количество заведений') \n",
    "ax.set(yscale=\"log\")\n",
    "plt.axhline(np.percentile(chain_characteristic['object_count'], 50), linestyle='--', color='grey')\n",
    "plt.axhline(np.percentile(chain_characteristic['object_count'], 90), linestyle='--', color='grey')\n",
    "plt.axvline(np.percentile(chain_characteristic['seats_count'], 50), linestyle='--', color='grey')\n",
    "plt.axvline(np.percentile(chain_characteristic['seats_count'], 90), linestyle='--', color='grey')\n",
    "plt.show()"
   ]
  },
  {
   "cell_type": "markdown",
   "metadata": {},
   "source": [
    "Одной из особенностей сетевых заведений на рынке Москвы является явное сокращение количества предприятий общественного питания при возрастании числа посадочных мест.\n",
    "Также мы выяснили, что в среднем 2-3 заведения, принадлежащие одной сети, имеют не более 50 посадочных мест. Если смотреть на это более масштабно, то в 90% случаев число заведений - не превышает 8 и число посадочных мест - 130.  \n",
    "\n",
    "Подводя итог вышесказанному, отметим, что для столичного рынка характерно - небольшое количество заведений одной сети с небольшой вместимостью."
   ]
  },
  {
   "cell_type": "markdown",
   "metadata": {},
   "source": [
    "#### 2.5. Среднее количество посадочных мест для каждого вида заведений  <a id='2.5.'></a> "
   ]
  },
  {
   "cell_type": "markdown",
   "metadata": {},
   "source": [
    "Для каждого вида объекта общественного питания найдем среднее количество посадочных мест. Начнем с построения диаграммы размаха и более детального ее изучения."
   ]
  },
  {
   "cell_type": "code",
   "execution_count": 37,
   "metadata": {},
   "outputs": [
    {
     "data": {
      "image/png": "[encoded data removed]",
      "text/plain": [
       "<Figure size 1152x432 with 1 Axes>"
      ]
     },
     "metadata": {
      "needs_background": "light"
     },
     "output_type": "display_data"
    }
   ],
   "source": [
    "# Зададим переменную для сотрировки количества мест для каждого вида заведения\n",
    "grouped = rest_data.loc[:,['object_type', 'number']]\\\n",
    "    .groupby(['object_type'])\\\n",
    "    .median()\\\n",
    "    .sort_values(by='number', ascending=False)\n",
    "\n",
    "# Построим диаграмму размаха для большей наглядности\n",
    "plt.figure(figsize=(16,6))\n",
    "ax = sns.boxplot(x='object_type', y='number', data=rest_data, palette='coolwarm', order=grouped.index)\n",
    "ax.set_title('Среднее число посадочных мест предприятий общественного питания')\n",
    "ax.set_xlabel('')\n",
    "ax.set_ylabel('Количество посадочных мест')\n",
    "ax.set_ylim(-20, 400)\n",
    "plt.xticks(rotation=60)\n",
    "plt.show()"
   ]
  },
  {
   "cell_type": "code",
   "execution_count": 19,
   "metadata": {},
   "outputs": [
    {
     "data": {
      "text/html": [
       "<div>\n",
       "<style scoped>\n",
       "    .dataframe tbody tr th:only-of-type {\n",
       "        vertical-align: middle;\n",
       "    }\n",
       "\n",
       "    .dataframe tbody tr th {\n",
       "        vertical-align: top;\n",
       "    }\n",
       "\n",
       "    .dataframe thead th {\n",
       "        text-align: right;\n",
       "    }\n",
       "</style>\n",
       "<table border=\"1\" class=\"dataframe\">\n",
       "  <thead>\n",
       "    <tr style=\"text-align: right;\">\n",
       "      <th></th>\n",
       "      <th>object_type</th>\n",
       "      <th>seats_count</th>\n",
       "    </tr>\n",
       "  </thead>\n",
       "  <tbody>\n",
       "    <tr>\n",
       "      <td>0</td>\n",
       "      <td>столовая</td>\n",
       "      <td>103</td>\n",
       "    </tr>\n",
       "    <tr>\n",
       "      <td>1</td>\n",
       "      <td>ресторан</td>\n",
       "      <td>80</td>\n",
       "    </tr>\n",
       "    <tr>\n",
       "      <td>2</td>\n",
       "      <td>бар</td>\n",
       "      <td>35</td>\n",
       "    </tr>\n",
       "    <tr>\n",
       "      <td>3</td>\n",
       "      <td>буфет</td>\n",
       "      <td>32</td>\n",
       "    </tr>\n",
       "    <tr>\n",
       "      <td>4</td>\n",
       "      <td>кафе</td>\n",
       "      <td>30</td>\n",
       "    </tr>\n",
       "    <tr>\n",
       "      <td>5</td>\n",
       "      <td>кафетерий</td>\n",
       "      <td>6</td>\n",
       "    </tr>\n",
       "    <tr>\n",
       "      <td>6</td>\n",
       "      <td>фаст-фуд</td>\n",
       "      <td>6</td>\n",
       "    </tr>\n",
       "    <tr>\n",
       "      <td>7</td>\n",
       "      <td>закусочная</td>\n",
       "      <td>0</td>\n",
       "    </tr>\n",
       "    <tr>\n",
       "      <td>8</td>\n",
       "      <td>магазин (отдел кулинарии)</td>\n",
       "      <td>0</td>\n",
       "    </tr>\n",
       "  </tbody>\n",
       "</table>\n",
       "</div>"
      ],
      "text/plain": [
       "                 object_type  seats_count\n",
       "0                   столовая          103\n",
       "1                   ресторан           80\n",
       "2                        бар           35\n",
       "3                      буфет           32\n",
       "4                       кафе           30\n",
       "5                  кафетерий            6\n",
       "6                   фаст-фуд            6\n",
       "7                 закусочная            0\n",
       "8  магазин (отдел кулинарии)            0"
      ]
     },
     "execution_count": 19,
     "metadata": {},
     "output_type": "execute_result"
    }
   ],
   "source": [
    "# Сгруппируем данные по типу заведения и количеству посадочных мест методом groupby()\n",
    "object_seats = rest_data.groupby('object_type').agg({'number':'median'}).\\\n",
    "                        sort_values(by='number', ascending=False).\\\n",
    "                        reset_index()\n",
    "\n",
    "# Переименуем названия столбцов в таблице\n",
    "object_seats.columns = ['object_type', 'seats_count']\n",
    "\n",
    "# Выведем полученные данные на экран\n",
    "object_seats"
   ]
  },
  {
   "cell_type": "markdown",
   "metadata": {},
   "source": [
    "Лидером среди типов заведений по среднему количеству посадочных мест является - столовая. Здесь показатель вместимости - чуть больше 100 мест и это можно объяснить ее форматом, для которого характерен большой поток людей на единицу времени.\n",
    "У ресторанов наблюдается идентичная со столовыми ситуация и в таблицу лидеров они попали на второе место. Для них характерно чуть меньшее число посадочных мест - в среднем этот показатель равен 80.\n",
    "Показатели наименьшей вместимости или в целом отсутствие посадочных мест можем наблюдать у таких типов заведений, как: фаст-фуд, закусочные и отделы кулинарии в магазинах и это легко объясняется тем, что их специфика работы - еда с собой, т.е. \"на вынос\"."
   ]
  },
  {
   "cell_type": "markdown",
   "metadata": {},
   "source": [
    "#### 2.6. Местонахождение объектов общественного питания   <a id='2.6.'></a> "
   ]
  },
  {
   "cell_type": "markdown",
   "metadata": {},
   "source": [
    "Из полного адреса месторасположения заведения выделим только улицы и полученные результаты запишем в отдельный столбец."
   ]
  },
  {
   "cell_type": "code",
   "execution_count": 20,
   "metadata": {},
   "outputs": [
    {
     "data": {
      "text/html": [
       "<div>\n",
       "<style scoped>\n",
       "    .dataframe tbody tr th:only-of-type {\n",
       "        vertical-align: middle;\n",
       "    }\n",
       "\n",
       "    .dataframe tbody tr th {\n",
       "        vertical-align: top;\n",
       "    }\n",
       "\n",
       "    .dataframe thead th {\n",
       "        text-align: right;\n",
       "    }\n",
       "</style>\n",
       "<table border=\"1\" class=\"dataframe\">\n",
       "  <thead>\n",
       "    <tr style=\"text-align: right;\">\n",
       "      <th></th>\n",
       "      <th>id</th>\n",
       "      <th>object_name</th>\n",
       "      <th>chain</th>\n",
       "      <th>object_type</th>\n",
       "      <th>address</th>\n",
       "      <th>number</th>\n",
       "      <th>street</th>\n",
       "    </tr>\n",
       "  </thead>\n",
       "  <tbody>\n",
       "    <tr>\n",
       "      <td>10864</td>\n",
       "      <td>181779</td>\n",
       "      <td>булочная-пекарня</td>\n",
       "      <td>нет</td>\n",
       "      <td>кафе</td>\n",
       "      <td>город москва, изумрудная улица, дом 3, строение 2</td>\n",
       "      <td>10</td>\n",
       "      <td>изумрудная улица</td>\n",
       "    </tr>\n",
       "    <tr>\n",
       "      <td>6042</td>\n",
       "      <td>29615</td>\n",
       "      <td>столовая гбоу школа № 109</td>\n",
       "      <td>нет</td>\n",
       "      <td>столовая</td>\n",
       "      <td>город москва, ленинский проспект, дом 131, кор...</td>\n",
       "      <td>300</td>\n",
       "      <td>ленинский проспект</td>\n",
       "    </tr>\n",
       "    <tr>\n",
       "      <td>7202</td>\n",
       "      <td>24026</td>\n",
       "      <td>кафе «незабудка»</td>\n",
       "      <td>нет</td>\n",
       "      <td>кафе</td>\n",
       "      <td>город москва, город зеленоград, корпус 1106е</td>\n",
       "      <td>40</td>\n",
       "      <td>NaN</td>\n",
       "    </tr>\n",
       "    <tr>\n",
       "      <td>291</td>\n",
       "      <td>124578</td>\n",
       "      <td>джаганнат</td>\n",
       "      <td>да</td>\n",
       "      <td>кафе</td>\n",
       "      <td>город москва, 1-я тверская-ямская улица, дом 1...</td>\n",
       "      <td>30</td>\n",
       "      <td>1-я тверская-ямская улица</td>\n",
       "    </tr>\n",
       "    <tr>\n",
       "      <td>11338</td>\n",
       "      <td>189880</td>\n",
       "      <td>хинкали от души</td>\n",
       "      <td>нет</td>\n",
       "      <td>фаст-фуд</td>\n",
       "      <td>город москва, бульвар дмитрия донского, дом 1</td>\n",
       "      <td>15</td>\n",
       "      <td>бульвар дмитрия донского</td>\n",
       "    </tr>\n",
       "  </tbody>\n",
       "</table>\n",
       "</div>"
      ],
      "text/plain": [
       "           id                object_name chain object_type  \\\n",
       "10864  181779           булочная-пекарня   нет        кафе   \n",
       "6042    29615  столовая гбоу школа № 109   нет    столовая   \n",
       "7202    24026           кафе «незабудка»   нет        кафе   \n",
       "291    124578                  джаганнат    да        кафе   \n",
       "11338  189880            хинкали от души   нет    фаст-фуд   \n",
       "\n",
       "                                                 address  number  \\\n",
       "10864  город москва, изумрудная улица, дом 3, строение 2      10   \n",
       "6042   город москва, ленинский проспект, дом 131, кор...     300   \n",
       "7202        город москва, город зеленоград, корпус 1106е      40   \n",
       "291    город москва, 1-я тверская-ямская улица, дом 1...      30   \n",
       "11338      город москва, бульвар дмитрия донского, дом 1      15   \n",
       "\n",
       "                          street  \n",
       "10864           изумрудная улица  \n",
       "6042          ленинский проспект  \n",
       "7202                         NaN  \n",
       "291    1-я тверская-ямская улица  \n",
       "11338   бульвар дмитрия донского  "
      ]
     },
     "execution_count": 20,
     "metadata": {},
     "output_type": "execute_result"
    }
   ],
   "source": [
    "# Выделим назваие улицы из строки с адресом при помощи регулярного выражения\n",
    "words = ['улица','ул','переулок','шоссе','проспект','площадь','проезд', 'Проезд', 'село',\n",
    "         'аллея','бульвар','набережная','тупик','линия', 'территория', 'километр', 'квартал']\n",
    "str_pat = r\".*,\\s*\\b([^,]*?(?:{})\\b[^,]*)[,$]+\".format(\"|\".join(words))\n",
    "rest_data['street'] = rest_data['address'].str.extract(str_pat, flags=re.I)\n",
    "\n",
    "# Проверим результат, выведя на экран 5 случайных строк\n",
    "rest_data.sample(5)"
   ]
  },
  {
   "cell_type": "markdown",
   "metadata": {},
   "source": [
    "После проведенных преобразований проверим остались ли у нас адреса, из которых не удалось выделить название улицы. При обнаружении отсутствующих значений, рассмотрим их более детально и примем решение по таким данным."
   ]
  },
  {
   "cell_type": "code",
   "execution_count": 21,
   "metadata": {},
   "outputs": [
    {
     "name": "stdout",
     "output_type": "stream",
     "text": [
      "Количество отсутствующих значений в столбце c названиями улиц: 369\n"
     ]
    }
   ],
   "source": [
    "# Проверим количество отсутствующих значений методом isnull()\n",
    "print('Количество отсутствующих значений в столбце c названиями улиц:', rest_data['street'].isnull().sum())"
   ]
  },
  {
   "cell_type": "code",
   "execution_count": 22,
   "metadata": {},
   "outputs": [
    {
     "data": {
      "text/html": [
       "<div>\n",
       "<style scoped>\n",
       "    .dataframe tbody tr th:only-of-type {\n",
       "        vertical-align: middle;\n",
       "    }\n",
       "\n",
       "    .dataframe tbody tr th {\n",
       "        vertical-align: top;\n",
       "    }\n",
       "\n",
       "    .dataframe thead th {\n",
       "        text-align: right;\n",
       "    }\n",
       "</style>\n",
       "<table border=\"1\" class=\"dataframe\">\n",
       "  <thead>\n",
       "    <tr style=\"text-align: right;\">\n",
       "      <th></th>\n",
       "      <th>id</th>\n",
       "      <th>object_name</th>\n",
       "      <th>chain</th>\n",
       "      <th>object_type</th>\n",
       "      <th>address</th>\n",
       "      <th>number</th>\n",
       "      <th>street</th>\n",
       "    </tr>\n",
       "  </thead>\n",
       "  <tbody>\n",
       "    <tr>\n",
       "      <td>9101</td>\n",
       "      <td>162722</td>\n",
       "      <td>кафетерий</td>\n",
       "      <td>нет</td>\n",
       "      <td>кафетерий</td>\n",
       "      <td>город москва, город зеленоград, корпус 435а</td>\n",
       "      <td>3</td>\n",
       "      <td>NaN</td>\n",
       "    </tr>\n",
       "    <tr>\n",
       "      <td>7223</td>\n",
       "      <td>83687</td>\n",
       "      <td>шоколадница</td>\n",
       "      <td>да</td>\n",
       "      <td>кафе</td>\n",
       "      <td>город москва, город зеленоград, корпус 1446</td>\n",
       "      <td>70</td>\n",
       "      <td>NaN</td>\n",
       "    </tr>\n",
       "    <tr>\n",
       "      <td>1491</td>\n",
       "      <td>25349</td>\n",
       "      <td>ресторан «гранатовый сад»</td>\n",
       "      <td>нет</td>\n",
       "      <td>ресторан</td>\n",
       "      <td>поречная улица, дом 5/14, строение 1</td>\n",
       "      <td>40</td>\n",
       "      <td>NaN</td>\n",
       "    </tr>\n",
       "    <tr>\n",
       "      <td>8737</td>\n",
       "      <td>139075</td>\n",
       "      <td>макдоналдс</td>\n",
       "      <td>да</td>\n",
       "      <td>фаст-фуд</td>\n",
       "      <td>город москва, город зеленоград, корпус 2309а</td>\n",
       "      <td>76</td>\n",
       "      <td>NaN</td>\n",
       "    </tr>\n",
       "    <tr>\n",
       "      <td>11753</td>\n",
       "      <td>189124</td>\n",
       "      <td>шашлычный мир</td>\n",
       "      <td>нет</td>\n",
       "      <td>магазин (отдел кулинарии)</td>\n",
       "      <td>город москва, город московский, 1-й микрорайон...</td>\n",
       "      <td>0</td>\n",
       "      <td>NaN</td>\n",
       "    </tr>\n",
       "  </tbody>\n",
       "</table>\n",
       "</div>"
      ],
      "text/plain": [
       "           id                object_name chain                object_type  \\\n",
       "9101   162722                  кафетерий   нет                  кафетерий   \n",
       "7223    83687                шоколадница    да                       кафе   \n",
       "1491    25349  ресторан «гранатовый сад»   нет                   ресторан   \n",
       "8737   139075                 макдоналдс    да                   фаст-фуд   \n",
       "11753  189124              шашлычный мир   нет  магазин (отдел кулинарии)   \n",
       "\n",
       "                                                 address  number street  \n",
       "9101         город москва, город зеленоград, корпус 435а       3    NaN  \n",
       "7223         город москва, город зеленоград, корпус 1446      70    NaN  \n",
       "1491                поречная улица, дом 5/14, строение 1      40    NaN  \n",
       "8737        город москва, город зеленоград, корпус 2309а      76    NaN  \n",
       "11753  город москва, город московский, 1-й микрорайон...       0    NaN  "
      ]
     },
     "execution_count": 22,
     "metadata": {},
     "output_type": "execute_result"
    }
   ],
   "source": [
    "# Посмотрим на строки с отсутствующими значениями\n",
    "rest_data[rest_data['street'].isnull()].sample(5)"
   ]
  },
  {
   "cell_type": "markdown",
   "metadata": {},
   "source": [
    "Посмотрев на данные \"под другим углом\", мы можем обосновать отсутствующие значения улиц следующим образом - в большинстве адресов указаны города, в которых совсем отсутствуют улицы, а деление города происходит по микрорайонам (например, город Зеленоград и частично города Троицк и Московский). Также, встречаются довольно небольшие населеные пункты (например, поселки и деревни), в которых, вероятнее всего, также не было необходимости в улицах.  \n",
    "Разобравшись с природов отсутствующих улиц мы можем сделать вывод, что из первоначальных данных нам удалось выделить все возможные значения."
   ]
  },
  {
   "cell_type": "markdown",
   "metadata": {},
   "source": [
    "#### 2.7. Топ-10 улиц Москвы по количеству объектов общественного питания   <a id='2.7.'></a> "
   ]
  },
  {
   "cell_type": "markdown",
   "metadata": {},
   "source": [
    "Узнаем на каких улицах Москвы находится наибольшее количество заведений, для этого сгруппируем данные и посмотрим на топ-10 результатов. "
   ]
  },
  {
   "cell_type": "code",
   "execution_count": 23,
   "metadata": {},
   "outputs": [
    {
     "data": {
      "text/html": [
       "<div>\n",
       "<style scoped>\n",
       "    .dataframe tbody tr th:only-of-type {\n",
       "        vertical-align: middle;\n",
       "    }\n",
       "\n",
       "    .dataframe tbody tr th {\n",
       "        vertical-align: top;\n",
       "    }\n",
       "\n",
       "    .dataframe thead th {\n",
       "        text-align: right;\n",
       "    }\n",
       "</style>\n",
       "<table border=\"1\" class=\"dataframe\">\n",
       "  <thead>\n",
       "    <tr style=\"text-align: right;\">\n",
       "      <th></th>\n",
       "      <th>street</th>\n",
       "      <th>object_count</th>\n",
       "    </tr>\n",
       "  </thead>\n",
       "  <tbody>\n",
       "    <tr>\n",
       "      <td>0</td>\n",
       "      <td>проспект мира</td>\n",
       "      <td>203</td>\n",
       "    </tr>\n",
       "    <tr>\n",
       "      <td>1</td>\n",
       "      <td>профсоюзная улица</td>\n",
       "      <td>181</td>\n",
       "    </tr>\n",
       "    <tr>\n",
       "      <td>2</td>\n",
       "      <td>ленинградский проспект</td>\n",
       "      <td>170</td>\n",
       "    </tr>\n",
       "    <tr>\n",
       "      <td>3</td>\n",
       "      <td>пресненская набережная</td>\n",
       "      <td>167</td>\n",
       "    </tr>\n",
       "    <tr>\n",
       "      <td>4</td>\n",
       "      <td>варшавское шоссе</td>\n",
       "      <td>161</td>\n",
       "    </tr>\n",
       "    <tr>\n",
       "      <td>5</td>\n",
       "      <td>ленинский проспект</td>\n",
       "      <td>147</td>\n",
       "    </tr>\n",
       "    <tr>\n",
       "      <td>6</td>\n",
       "      <td>проспект вернадского</td>\n",
       "      <td>128</td>\n",
       "    </tr>\n",
       "    <tr>\n",
       "      <td>7</td>\n",
       "      <td>кутузовский проспект</td>\n",
       "      <td>114</td>\n",
       "    </tr>\n",
       "    <tr>\n",
       "      <td>8</td>\n",
       "      <td>каширское шоссе</td>\n",
       "      <td>111</td>\n",
       "    </tr>\n",
       "    <tr>\n",
       "      <td>9</td>\n",
       "      <td>кировоградская улица</td>\n",
       "      <td>108</td>\n",
       "    </tr>\n",
       "  </tbody>\n",
       "</table>\n",
       "</div>"
      ],
      "text/plain": [
       "                   street  object_count\n",
       "0           проспект мира           203\n",
       "1       профсоюзная улица           181\n",
       "2  ленинградский проспект           170\n",
       "3  пресненская набережная           167\n",
       "4        варшавское шоссе           161\n",
       "5      ленинский проспект           147\n",
       "6    проспект вернадского           128\n",
       "7    кутузовский проспект           114\n",
       "8         каширское шоссе           111\n",
       "9    кировоградская улица           108"
      ]
     },
     "execution_count": 23,
     "metadata": {},
     "output_type": "execute_result"
    }
   ],
   "source": [
    "# Сгруппируем данные по названию улицы и количеству заведений методом groupby()\n",
    "top_streets = rest_data.groupby('street').agg({'id': 'count'}).\\\n",
    "                        sort_values(by='id', ascending=False).\\\n",
    "                        reset_index().\\\n",
    "                        head(10)\n",
    "\n",
    "# Переименуем названия столбцов в таблице\n",
    "top_streets.columns = ['street', 'object_count']\n",
    "\n",
    "# Выведем полученные данные на экран\n",
    "top_streets"
   ]
  },
  {
   "cell_type": "code",
   "execution_count": 39,
   "metadata": {},
   "outputs": [
    {
     "data": {
      "image/png": "[encoded data removed]",
      "text/plain": [
       "<Figure size 1152x432 with 1 Axes>"
      ]
     },
     "metadata": {
      "needs_background": "light"
     },
     "output_type": "display_data"
    }
   ],
   "source": [
    "# Построим столбчатую диаграмму для большей наглядности\n",
    "plt.figure(figsize=(16,6)) \n",
    "ax = sns.barplot(x='street', y='object_count', data=top_streets, palette='coolwarm')\n",
    "sns.despine()\n",
    "for i in ax.patches:\n",
    "    ax.text(i.get_x()+0.18, i.get_height()+3, \\\n",
    "            str(i.get_height()), fontsize=12,\n",
    "                color='black')\n",
    "ax.set_title('Топ-10 улиц Москвы по количеству объектов общественного питания')\n",
    "ax.set_xlabel('')\n",
    "ax.set_ylabel('Количество объектов общественного питания') \n",
    "plt.xticks(rotation=45)\n",
    "plt.show()"
   ]
  },
  {
   "cell_type": "markdown",
   "metadata": {},
   "source": [
    "Мы видим, что на первом месте по количеству заведений находится улица - проспект Мира, на ней сосредоточено более 200 объектов общественного питания.  В целом же, все остальные улицы рейтинга топ-10 показали довольно высокие результаты и их показатели не опускаются ниже 100 заведений. \n",
    "\n",
    "Теперь постараемся ответить на вопрос - в каких районах Москвы находятся данные улицы. Для этого воспользуемся внешней информацией - найдем и скачаем готовую таблицу с данными о том, в каком районе проходит какая улица. "
   ]
  },
  {
   "cell_type": "code",
   "execution_count": 25,
   "metadata": {},
   "outputs": [
    {
     "data": {
      "text/html": [
       "<div>\n",
       "<style scoped>\n",
       "    .dataframe tbody tr th:only-of-type {\n",
       "        vertical-align: middle;\n",
       "    }\n",
       "\n",
       "    .dataframe tbody tr th {\n",
       "        vertical-align: top;\n",
       "    }\n",
       "\n",
       "    .dataframe thead th {\n",
       "        text-align: right;\n",
       "    }\n",
       "</style>\n",
       "<table border=\"1\" class=\"dataframe\">\n",
       "  <thead>\n",
       "    <tr style=\"text-align: right;\">\n",
       "      <th></th>\n",
       "      <th>streetname</th>\n",
       "      <th>areaid</th>\n",
       "      <th>okrug</th>\n",
       "      <th>area</th>\n",
       "    </tr>\n",
       "  </thead>\n",
       "  <tbody>\n",
       "    <tr>\n",
       "      <td>259</td>\n",
       "      <td>улица Солянка</td>\n",
       "      <td>18</td>\n",
       "      <td>ЦАО</td>\n",
       "      <td>Таганский район</td>\n",
       "    </tr>\n",
       "    <tr>\n",
       "      <td>1985</td>\n",
       "      <td>Беговая улица</td>\n",
       "      <td>69</td>\n",
       "      <td>САО</td>\n",
       "      <td>Хорошевский район</td>\n",
       "    </tr>\n",
       "    <tr>\n",
       "      <td>441</td>\n",
       "      <td>Столешников переулок</td>\n",
       "      <td>19</td>\n",
       "      <td>ЦАО</td>\n",
       "      <td>Тверской район</td>\n",
       "    </tr>\n",
       "    <tr>\n",
       "      <td>2145</td>\n",
       "      <td>улица Кипренского</td>\n",
       "      <td>66</td>\n",
       "      <td>САО</td>\n",
       "      <td>Район Сокол</td>\n",
       "    </tr>\n",
       "    <tr>\n",
       "      <td>4073</td>\n",
       "      <td>1-я Горловская улица</td>\n",
       "      <td>133</td>\n",
       "      <td>ЮЗАО</td>\n",
       "      <td>Район Южное Бутово</td>\n",
       "    </tr>\n",
       "  </tbody>\n",
       "</table>\n",
       "</div>"
      ],
      "text/plain": [
       "                streetname  areaid okrug                area\n",
       "259          улица Солянка      18   ЦАО     Таганский район\n",
       "1985         Беговая улица      69   САО   Хорошевский район\n",
       "441   Столешников переулок      19   ЦАО      Тверской район\n",
       "2145     улица Кипренского      66   САО         Район Сокол\n",
       "4073  1-я Горловская улица     133  ЮЗАО  Район Южное Бутово"
      ]
     },
     "execution_count": 25,
     "metadata": {},
     "output_type": "execute_result"
    }
   ],
   "source": [
    "# Прочитаем данные методом read_csv \n",
    "spreadsheet_id = '1X_zAyVly8WjljYhKyKldzYINVTRRCeMy2UkhwOND5bs'\n",
    "file_name = 'https://docs.google.com/spreadsheets/d/{}/export?format=csv'.format(spreadsheet_id)\n",
    "r = requests.get(file_name)\n",
    "\n",
    "# Посмотрим на исходный датафрейм\n",
    "district_data = pd.read_csv(BytesIO(r.content))\n",
    "district_data.sample(5)"
   ]
  },
  {
   "cell_type": "markdown",
   "metadata": {},
   "source": [
    "Для сопоставления улиц с районами нам потребуется объединить по общему столбцу ранее полученные данные по топ-10 улиц с наибольшим количеством заведений общественного питания с данными о районах."
   ]
  },
  {
   "cell_type": "code",
   "execution_count": 26,
   "metadata": {},
   "outputs": [
    {
     "data": {
      "text/html": [
       "<div>\n",
       "<style scoped>\n",
       "    .dataframe tbody tr th:only-of-type {\n",
       "        vertical-align: middle;\n",
       "    }\n",
       "\n",
       "    .dataframe tbody tr th {\n",
       "        vertical-align: top;\n",
       "    }\n",
       "\n",
       "    .dataframe thead th {\n",
       "        text-align: right;\n",
       "    }\n",
       "</style>\n",
       "<table border=\"1\" class=\"dataframe\">\n",
       "  <thead>\n",
       "    <tr style=\"text-align: right;\">\n",
       "      <th></th>\n",
       "      <th>street</th>\n",
       "      <th>object_count</th>\n",
       "      <th>areaid</th>\n",
       "      <th>okrug</th>\n",
       "      <th>area</th>\n",
       "    </tr>\n",
       "  </thead>\n",
       "  <tbody>\n",
       "    <tr>\n",
       "      <td>0</td>\n",
       "      <td>проспект мира</td>\n",
       "      <td>203</td>\n",
       "      <td>70</td>\n",
       "      <td>СВАО</td>\n",
       "      <td>алексеевский район</td>\n",
       "    </tr>\n",
       "    <tr>\n",
       "      <td>1</td>\n",
       "      <td>проспект мира</td>\n",
       "      <td>203</td>\n",
       "      <td>86</td>\n",
       "      <td>СВАО</td>\n",
       "      <td>ярославский район</td>\n",
       "    </tr>\n",
       "    <tr>\n",
       "      <td>2</td>\n",
       "      <td>проспект мира</td>\n",
       "      <td>203</td>\n",
       "      <td>78</td>\n",
       "      <td>СВАО</td>\n",
       "      <td>район марьина роща</td>\n",
       "    </tr>\n",
       "    <tr>\n",
       "      <td>3</td>\n",
       "      <td>проспект мира</td>\n",
       "      <td>203</td>\n",
       "      <td>79</td>\n",
       "      <td>СВАО</td>\n",
       "      <td>останкинский район</td>\n",
       "    </tr>\n",
       "    <tr>\n",
       "      <td>4</td>\n",
       "      <td>проспект мира</td>\n",
       "      <td>203</td>\n",
       "      <td>81</td>\n",
       "      <td>СВАО</td>\n",
       "      <td>район ростокино</td>\n",
       "    </tr>\n",
       "    <tr>\n",
       "      <td>5</td>\n",
       "      <td>проспект мира</td>\n",
       "      <td>203</td>\n",
       "      <td>82</td>\n",
       "      <td>СВАО</td>\n",
       "      <td>район свиблово</td>\n",
       "    </tr>\n",
       "    <tr>\n",
       "      <td>6</td>\n",
       "      <td>проспект мира</td>\n",
       "      <td>203</td>\n",
       "      <td>16</td>\n",
       "      <td>ЦАО</td>\n",
       "      <td>мещанский район</td>\n",
       "    </tr>\n",
       "    <tr>\n",
       "      <td>7</td>\n",
       "      <td>профсоюзная улица</td>\n",
       "      <td>181</td>\n",
       "      <td>123</td>\n",
       "      <td>ЮЗАО</td>\n",
       "      <td>академический район</td>\n",
       "    </tr>\n",
       "    <tr>\n",
       "      <td>8</td>\n",
       "      <td>профсоюзная улица</td>\n",
       "      <td>181</td>\n",
       "      <td>132</td>\n",
       "      <td>ЮЗАО</td>\n",
       "      <td>район черемушки</td>\n",
       "    </tr>\n",
       "    <tr>\n",
       "      <td>9</td>\n",
       "      <td>профсоюзная улица</td>\n",
       "      <td>181</td>\n",
       "      <td>134</td>\n",
       "      <td>ЮЗАО</td>\n",
       "      <td>район ясенево</td>\n",
       "    </tr>\n",
       "    <tr>\n",
       "      <td>10</td>\n",
       "      <td>профсоюзная улица</td>\n",
       "      <td>181</td>\n",
       "      <td>126</td>\n",
       "      <td>ЮЗАО</td>\n",
       "      <td>район коньково</td>\n",
       "    </tr>\n",
       "    <tr>\n",
       "      <td>11</td>\n",
       "      <td>профсоюзная улица</td>\n",
       "      <td>181</td>\n",
       "      <td>129</td>\n",
       "      <td>ЮЗАО</td>\n",
       "      <td>обручевский район</td>\n",
       "    </tr>\n",
       "    <tr>\n",
       "      <td>12</td>\n",
       "      <td>профсоюзная улица</td>\n",
       "      <td>181</td>\n",
       "      <td>131</td>\n",
       "      <td>ЮЗАО</td>\n",
       "      <td>район теплый стан</td>\n",
       "    </tr>\n",
       "    <tr>\n",
       "      <td>13</td>\n",
       "      <td>ленинградский проспект</td>\n",
       "      <td>170</td>\n",
       "      <td>54</td>\n",
       "      <td>САО</td>\n",
       "      <td>район аэропорт</td>\n",
       "    </tr>\n",
       "    <tr>\n",
       "      <td>14</td>\n",
       "      <td>ленинградский проспект</td>\n",
       "      <td>170</td>\n",
       "      <td>55</td>\n",
       "      <td>САО</td>\n",
       "      <td>район беговой</td>\n",
       "    </tr>\n",
       "    <tr>\n",
       "      <td>15</td>\n",
       "      <td>ленинградский проспект</td>\n",
       "      <td>170</td>\n",
       "      <td>69</td>\n",
       "      <td>САО</td>\n",
       "      <td>хорошевский район</td>\n",
       "    </tr>\n",
       "    <tr>\n",
       "      <td>16</td>\n",
       "      <td>ленинградский проспект</td>\n",
       "      <td>170</td>\n",
       "      <td>66</td>\n",
       "      <td>САО</td>\n",
       "      <td>район сокол</td>\n",
       "    </tr>\n",
       "    <tr>\n",
       "      <td>17</td>\n",
       "      <td>пресненская набережная</td>\n",
       "      <td>167</td>\n",
       "      <td>17</td>\n",
       "      <td>ЦАО</td>\n",
       "      <td>пресненский район</td>\n",
       "    </tr>\n",
       "    <tr>\n",
       "      <td>18</td>\n",
       "      <td>варшавское шоссе</td>\n",
       "      <td>161</td>\n",
       "      <td>109</td>\n",
       "      <td>ЮАО</td>\n",
       "      <td>район чертаново центральное</td>\n",
       "    </tr>\n",
       "    <tr>\n",
       "      <td>19</td>\n",
       "      <td>варшавское шоссе</td>\n",
       "      <td>161</td>\n",
       "      <td>108</td>\n",
       "      <td>ЮАО</td>\n",
       "      <td>район чертаново северное</td>\n",
       "    </tr>\n",
       "    <tr>\n",
       "      <td>20</td>\n",
       "      <td>варшавское шоссе</td>\n",
       "      <td>161</td>\n",
       "      <td>110</td>\n",
       "      <td>ЮАО</td>\n",
       "      <td>район чертаново южное</td>\n",
       "    </tr>\n",
       "    <tr>\n",
       "      <td>21</td>\n",
       "      <td>варшавское шоссе</td>\n",
       "      <td>161</td>\n",
       "      <td>99</td>\n",
       "      <td>ЮАО</td>\n",
       "      <td>донской район</td>\n",
       "    </tr>\n",
       "    <tr>\n",
       "      <td>22</td>\n",
       "      <td>варшавское шоссе</td>\n",
       "      <td>161</td>\n",
       "      <td>102</td>\n",
       "      <td>ЮАО</td>\n",
       "      <td>район нагатино-садовники</td>\n",
       "    </tr>\n",
       "    <tr>\n",
       "      <td>23</td>\n",
       "      <td>варшавское шоссе</td>\n",
       "      <td>161</td>\n",
       "      <td>104</td>\n",
       "      <td>ЮАО</td>\n",
       "      <td>нагорный район</td>\n",
       "    </tr>\n",
       "    <tr>\n",
       "      <td>24</td>\n",
       "      <td>варшавское шоссе</td>\n",
       "      <td>161</td>\n",
       "      <td>130</td>\n",
       "      <td>ЮЗАО</td>\n",
       "      <td>район северное бутово</td>\n",
       "    </tr>\n",
       "    <tr>\n",
       "      <td>25</td>\n",
       "      <td>варшавское шоссе</td>\n",
       "      <td>161</td>\n",
       "      <td>133</td>\n",
       "      <td>ЮЗАО</td>\n",
       "      <td>район южное бутово</td>\n",
       "    </tr>\n",
       "    <tr>\n",
       "      <td>26</td>\n",
       "      <td>ленинский проспект</td>\n",
       "      <td>147</td>\n",
       "      <td>44</td>\n",
       "      <td>ЗАО</td>\n",
       "      <td>район проспект вернадского</td>\n",
       "    </tr>\n",
       "    <tr>\n",
       "      <td>27</td>\n",
       "      <td>ленинский проспект</td>\n",
       "      <td>147</td>\n",
       "      <td>47</td>\n",
       "      <td>ЗАО</td>\n",
       "      <td>район тропарево-никулино</td>\n",
       "    </tr>\n",
       "    <tr>\n",
       "      <td>28</td>\n",
       "      <td>ленинский проспект</td>\n",
       "      <td>147</td>\n",
       "      <td>99</td>\n",
       "      <td>ЮАО</td>\n",
       "      <td>донской район</td>\n",
       "    </tr>\n",
       "    <tr>\n",
       "      <td>29</td>\n",
       "      <td>ленинский проспект</td>\n",
       "      <td>147</td>\n",
       "      <td>124</td>\n",
       "      <td>ЮЗАО</td>\n",
       "      <td>район гагаринский</td>\n",
       "    </tr>\n",
       "    <tr>\n",
       "      <td>30</td>\n",
       "      <td>ленинский проспект</td>\n",
       "      <td>147</td>\n",
       "      <td>128</td>\n",
       "      <td>ЮЗАО</td>\n",
       "      <td>ломоносовский район</td>\n",
       "    </tr>\n",
       "    <tr>\n",
       "      <td>31</td>\n",
       "      <td>ленинский проспект</td>\n",
       "      <td>147</td>\n",
       "      <td>129</td>\n",
       "      <td>ЮЗАО</td>\n",
       "      <td>обручевский район</td>\n",
       "    </tr>\n",
       "    <tr>\n",
       "      <td>32</td>\n",
       "      <td>ленинский проспект</td>\n",
       "      <td>147</td>\n",
       "      <td>131</td>\n",
       "      <td>ЮЗАО</td>\n",
       "      <td>район теплый стан</td>\n",
       "    </tr>\n",
       "    <tr>\n",
       "      <td>33</td>\n",
       "      <td>ленинский проспект</td>\n",
       "      <td>147</td>\n",
       "      <td>21</td>\n",
       "      <td>ЦАО</td>\n",
       "      <td>район якиманка</td>\n",
       "    </tr>\n",
       "    <tr>\n",
       "      <td>34</td>\n",
       "      <td>проспект вернадского</td>\n",
       "      <td>128</td>\n",
       "      <td>44</td>\n",
       "      <td>ЗАО</td>\n",
       "      <td>район проспект вернадского</td>\n",
       "    </tr>\n",
       "    <tr>\n",
       "      <td>35</td>\n",
       "      <td>проспект вернадского</td>\n",
       "      <td>128</td>\n",
       "      <td>45</td>\n",
       "      <td>ЗАО</td>\n",
       "      <td>район раменки</td>\n",
       "    </tr>\n",
       "    <tr>\n",
       "      <td>36</td>\n",
       "      <td>проспект вернадского</td>\n",
       "      <td>128</td>\n",
       "      <td>47</td>\n",
       "      <td>ЗАО</td>\n",
       "      <td>район тропарево-никулино</td>\n",
       "    </tr>\n",
       "    <tr>\n",
       "      <td>37</td>\n",
       "      <td>проспект вернадского</td>\n",
       "      <td>128</td>\n",
       "      <td>124</td>\n",
       "      <td>ЮЗАО</td>\n",
       "      <td>район гагаринский</td>\n",
       "    </tr>\n",
       "    <tr>\n",
       "      <td>38</td>\n",
       "      <td>проспект вернадского</td>\n",
       "      <td>128</td>\n",
       "      <td>128</td>\n",
       "      <td>ЮЗАО</td>\n",
       "      <td>ломоносовский район</td>\n",
       "    </tr>\n",
       "    <tr>\n",
       "      <td>39</td>\n",
       "      <td>кутузовский проспект</td>\n",
       "      <td>114</td>\n",
       "      <td>38</td>\n",
       "      <td>ЗАО</td>\n",
       "      <td>район дорогомилово</td>\n",
       "    </tr>\n",
       "    <tr>\n",
       "      <td>40</td>\n",
       "      <td>кутузовский проспект</td>\n",
       "      <td>114</td>\n",
       "      <td>49</td>\n",
       "      <td>ЗАО</td>\n",
       "      <td>район фили-давыдково</td>\n",
       "    </tr>\n",
       "    <tr>\n",
       "      <td>41</td>\n",
       "      <td>каширское шоссе</td>\n",
       "      <td>111</td>\n",
       "      <td>101</td>\n",
       "      <td>ЮАО</td>\n",
       "      <td>район москворечье-сабурово</td>\n",
       "    </tr>\n",
       "    <tr>\n",
       "      <td>42</td>\n",
       "      <td>каширское шоссе</td>\n",
       "      <td>111</td>\n",
       "      <td>102</td>\n",
       "      <td>ЮАО</td>\n",
       "      <td>район нагатино-садовники</td>\n",
       "    </tr>\n",
       "    <tr>\n",
       "      <td>43</td>\n",
       "      <td>каширское шоссе</td>\n",
       "      <td>111</td>\n",
       "      <td>106</td>\n",
       "      <td>ЮАО</td>\n",
       "      <td>район орехово-борисово южное</td>\n",
       "    </tr>\n",
       "    <tr>\n",
       "      <td>44</td>\n",
       "      <td>каширское шоссе</td>\n",
       "      <td>111</td>\n",
       "      <td>105</td>\n",
       "      <td>ЮАО</td>\n",
       "      <td>район орехово-борисово северное</td>\n",
       "    </tr>\n",
       "    <tr>\n",
       "      <td>45</td>\n",
       "      <td>кировоградская улица</td>\n",
       "      <td>108</td>\n",
       "      <td>109</td>\n",
       "      <td>ЮАО</td>\n",
       "      <td>район чертаново центральное</td>\n",
       "    </tr>\n",
       "    <tr>\n",
       "      <td>46</td>\n",
       "      <td>кировоградская улица</td>\n",
       "      <td>108</td>\n",
       "      <td>108</td>\n",
       "      <td>ЮАО</td>\n",
       "      <td>район чертаново северное</td>\n",
       "    </tr>\n",
       "    <tr>\n",
       "      <td>47</td>\n",
       "      <td>кировоградская улица</td>\n",
       "      <td>108</td>\n",
       "      <td>110</td>\n",
       "      <td>ЮАО</td>\n",
       "      <td>район чертаново южное</td>\n",
       "    </tr>\n",
       "  </tbody>\n",
       "</table>\n",
       "</div>"
      ],
      "text/plain": [
       "                    street  object_count  areaid okrug  \\\n",
       "0            проспект мира           203      70  СВАО   \n",
       "1            проспект мира           203      86  СВАО   \n",
       "2            проспект мира           203      78  СВАО   \n",
       "3            проспект мира           203      79  СВАО   \n",
       "4            проспект мира           203      81  СВАО   \n",
       "5            проспект мира           203      82  СВАО   \n",
       "6            проспект мира           203      16   ЦАО   \n",
       "7        профсоюзная улица           181     123  ЮЗАО   \n",
       "8        профсоюзная улица           181     132  ЮЗАО   \n",
       "9        профсоюзная улица           181     134  ЮЗАО   \n",
       "10       профсоюзная улица           181     126  ЮЗАО   \n",
       "11       профсоюзная улица           181     129  ЮЗАО   \n",
       "12       профсоюзная улица           181     131  ЮЗАО   \n",
       "13  ленинградский проспект           170      54   САО   \n",
       "14  ленинградский проспект           170      55   САО   \n",
       "15  ленинградский проспект           170      69   САО   \n",
       "16  ленинградский проспект           170      66   САО   \n",
       "17  пресненская набережная           167      17   ЦАО   \n",
       "18        варшавское шоссе           161     109   ЮАО   \n",
       "19        варшавское шоссе           161     108   ЮАО   \n",
       "20        варшавское шоссе           161     110   ЮАО   \n",
       "21        варшавское шоссе           161      99   ЮАО   \n",
       "22        варшавское шоссе           161     102   ЮАО   \n",
       "23        варшавское шоссе           161     104   ЮАО   \n",
       "24        варшавское шоссе           161     130  ЮЗАО   \n",
       "25        варшавское шоссе           161     133  ЮЗАО   \n",
       "26      ленинский проспект           147      44   ЗАО   \n",
       "27      ленинский проспект           147      47   ЗАО   \n",
       "28      ленинский проспект           147      99   ЮАО   \n",
       "29      ленинский проспект           147     124  ЮЗАО   \n",
       "30      ленинский проспект           147     128  ЮЗАО   \n",
       "31      ленинский проспект           147     129  ЮЗАО   \n",
       "32      ленинский проспект           147     131  ЮЗАО   \n",
       "33      ленинский проспект           147      21   ЦАО   \n",
       "34    проспект вернадского           128      44   ЗАО   \n",
       "35    проспект вернадского           128      45   ЗАО   \n",
       "36    проспект вернадского           128      47   ЗАО   \n",
       "37    проспект вернадского           128     124  ЮЗАО   \n",
       "38    проспект вернадского           128     128  ЮЗАО   \n",
       "39    кутузовский проспект           114      38   ЗАО   \n",
       "40    кутузовский проспект           114      49   ЗАО   \n",
       "41         каширское шоссе           111     101   ЮАО   \n",
       "42         каширское шоссе           111     102   ЮАО   \n",
       "43         каширское шоссе           111     106   ЮАО   \n",
       "44         каширское шоссе           111     105   ЮАО   \n",
       "45    кировоградская улица           108     109   ЮАО   \n",
       "46    кировоградская улица           108     108   ЮАО   \n",
       "47    кировоградская улица           108     110   ЮАО   \n",
       "\n",
       "                               area  \n",
       "0                алексеевский район  \n",
       "1                 ярославский район  \n",
       "2                район марьина роща  \n",
       "3                останкинский район  \n",
       "4                   район ростокино  \n",
       "5                    район свиблово  \n",
       "6                   мещанский район  \n",
       "7               академический район  \n",
       "8                   район черемушки  \n",
       "9                     район ясенево  \n",
       "10                   район коньково  \n",
       "11                обручевский район  \n",
       "12                район теплый стан  \n",
       "13                   район аэропорт  \n",
       "14                    район беговой  \n",
       "15                хорошевский район  \n",
       "16                      район сокол  \n",
       "17                пресненский район  \n",
       "18      район чертаново центральное  \n",
       "19         район чертаново северное  \n",
       "20            район чертаново южное  \n",
       "21                    донской район  \n",
       "22         район нагатино-садовники  \n",
       "23                   нагорный район  \n",
       "24            район северное бутово  \n",
       "25               район южное бутово  \n",
       "26       район проспект вернадского  \n",
       "27         район тропарево-никулино  \n",
       "28                    донской район  \n",
       "29                район гагаринский  \n",
       "30              ломоносовский район  \n",
       "31                обручевский район  \n",
       "32                район теплый стан  \n",
       "33                   район якиманка  \n",
       "34       район проспект вернадского  \n",
       "35                    район раменки  \n",
       "36         район тропарево-никулино  \n",
       "37                район гагаринский  \n",
       "38              ломоносовский район  \n",
       "39               район дорогомилово  \n",
       "40             район фили-давыдково  \n",
       "41       район москворечье-сабурово  \n",
       "42         район нагатино-садовники  \n",
       "43     район орехово-борисово южное  \n",
       "44  район орехово-борисово северное  \n",
       "45      район чертаново центральное  \n",
       "46         район чертаново северное  \n",
       "47            район чертаново южное  "
      ]
     },
     "execution_count": 26,
     "metadata": {},
     "output_type": "execute_result"
    }
   ],
   "source": [
    "# Переименуем столбец 'streetname' таблицы district_data\n",
    "district_data = district_data.rename(columns={'streetname' : 'street'})\n",
    "\n",
    "# Приведем значения строковых полей к нижнему регистру \n",
    "district_data['street'] = district_data['street'].str.lower()\n",
    "district_data['area'] = district_data['area'].str.lower()\n",
    "\n",
    "# Объединим таблицы методом merge()\n",
    "top_street_district = top_streets.merge(district_data, on='street', how='inner')\n",
    "\n",
    "# Выведем полученные результаты\n",
    "top_street_district"
   ]
  },
  {
   "cell_type": "markdown",
   "metadata": {},
   "source": [
    "Изучив более подробно географию расположения топ-10 улиц мы выяснили, что они проходят через 48 районов Москвы и чаще всего затрагивают Южный и Юго-Западный округа, далее следуют - Западный и Центральный АО."
   ]
  },
  {
   "cell_type": "markdown",
   "metadata": {},
   "source": [
    "#### 2.8.  Число улиц Москвы с одним объектом общественного питания  <a id='2.8.'></a> "
   ]
  },
  {
   "cell_type": "markdown",
   "metadata": {},
   "source": [
    "Найдем число улиц Москвы с одним объектом общественного питания и узнаем через сколько районов проходят эти улицы. А также, попробуем найти особенности их распределения по округам города."
   ]
  },
  {
   "cell_type": "code",
   "execution_count": 27,
   "metadata": {},
   "outputs": [
    {
     "data": {
      "text/html": [
       "<div>\n",
       "<style scoped>\n",
       "    .dataframe tbody tr th:only-of-type {\n",
       "        vertical-align: middle;\n",
       "    }\n",
       "\n",
       "    .dataframe tbody tr th {\n",
       "        vertical-align: top;\n",
       "    }\n",
       "\n",
       "    .dataframe thead th {\n",
       "        text-align: right;\n",
       "    }\n",
       "</style>\n",
       "<table border=\"1\" class=\"dataframe\">\n",
       "  <thead>\n",
       "    <tr style=\"text-align: right;\">\n",
       "      <th></th>\n",
       "      <th>street</th>\n",
       "      <th>object_count</th>\n",
       "    </tr>\n",
       "  </thead>\n",
       "  <tbody>\n",
       "    <tr>\n",
       "      <td>106</td>\n",
       "      <td>улица максимова</td>\n",
       "      <td>1</td>\n",
       "    </tr>\n",
       "    <tr>\n",
       "      <td>284</td>\n",
       "      <td>стромынский переулок</td>\n",
       "      <td>1</td>\n",
       "    </tr>\n",
       "    <tr>\n",
       "      <td>466</td>\n",
       "      <td>хлыновский тупик</td>\n",
       "      <td>1</td>\n",
       "    </tr>\n",
       "    <tr>\n",
       "      <td>194</td>\n",
       "      <td>рижский проезд</td>\n",
       "      <td>1</td>\n",
       "    </tr>\n",
       "    <tr>\n",
       "      <td>352</td>\n",
       "      <td>2-й новокузнецкий переулок</td>\n",
       "      <td>1</td>\n",
       "    </tr>\n",
       "  </tbody>\n",
       "</table>\n",
       "</div>"
      ],
      "text/plain": [
       "                         street  object_count\n",
       "106             улица максимова             1\n",
       "284        стромынский переулок             1\n",
       "466            хлыновский тупик             1\n",
       "194              рижский проезд             1\n",
       "352  2-й новокузнецкий переулок             1"
      ]
     },
     "execution_count": 27,
     "metadata": {},
     "output_type": "execute_result"
    }
   ],
   "source": [
    "# Сгруппируем данные по названию улицы и количеством заведений равным 1 методом groupby()\n",
    "one_object = rest_data.groupby('street').agg({'id': 'count'}).\\\n",
    "                        sort_values(by='id', ascending=True).\\\n",
    "                        reset_index().query('id == 1')\n",
    "\n",
    "# Переименуем названия столбцов в таблице\n",
    "one_object.columns = ['street', 'object_count']\n",
    "\n",
    "# Проверим полученный результат\n",
    "one_object.sample(5)"
   ]
  },
  {
   "cell_type": "code",
   "execution_count": 28,
   "metadata": {},
   "outputs": [
    {
     "name": "stdout",
     "output_type": "stream",
     "text": [
      "Число улиц Москвы с одним объектом общественного питания: 573\n"
     ]
    }
   ],
   "source": [
    "# Найдем число улиц с одним объектом \n",
    "print('Число улиц Москвы с одним объектом общественного питания:', len(one_object))"
   ]
  },
  {
   "cell_type": "code",
   "execution_count": 29,
   "metadata": {},
   "outputs": [
    {
     "data": {
      "text/html": [
       "<div>\n",
       "<style scoped>\n",
       "    .dataframe tbody tr th:only-of-type {\n",
       "        vertical-align: middle;\n",
       "    }\n",
       "\n",
       "    .dataframe tbody tr th {\n",
       "        vertical-align: top;\n",
       "    }\n",
       "\n",
       "    .dataframe thead th {\n",
       "        text-align: right;\n",
       "    }\n",
       "</style>\n",
       "<table border=\"1\" class=\"dataframe\">\n",
       "  <thead>\n",
       "    <tr style=\"text-align: right;\">\n",
       "      <th></th>\n",
       "      <th>okrug</th>\n",
       "      <th>area</th>\n",
       "      <th>street_count</th>\n",
       "    </tr>\n",
       "  </thead>\n",
       "  <tbody>\n",
       "    <tr>\n",
       "      <td>16</td>\n",
       "      <td>ЗАО</td>\n",
       "      <td>район внуково</td>\n",
       "      <td>9</td>\n",
       "    </tr>\n",
       "    <tr>\n",
       "      <td>86</td>\n",
       "      <td>ВАО</td>\n",
       "      <td>район ивановское</td>\n",
       "      <td>1</td>\n",
       "    </tr>\n",
       "    <tr>\n",
       "      <td>20</td>\n",
       "      <td>ЗАО</td>\n",
       "      <td>можайский район</td>\n",
       "      <td>8</td>\n",
       "    </tr>\n",
       "    <tr>\n",
       "      <td>79</td>\n",
       "      <td>ЮЗАО</td>\n",
       "      <td>район северное бутово</td>\n",
       "      <td>2</td>\n",
       "    </tr>\n",
       "    <tr>\n",
       "      <td>98</td>\n",
       "      <td>ЗАО</td>\n",
       "      <td>район филевский парк</td>\n",
       "      <td>1</td>\n",
       "    </tr>\n",
       "  </tbody>\n",
       "</table>\n",
       "</div>"
      ],
      "text/plain": [
       "   okrug                   area  street_count\n",
       "16   ЗАО          район внуково             9\n",
       "86   ВАО       район ивановское             1\n",
       "20   ЗАО        можайский район             8\n",
       "79  ЮЗАО  район северное бутово             2\n",
       "98   ЗАО   район филевский парк             1"
      ]
     },
     "execution_count": 29,
     "metadata": {},
     "output_type": "execute_result"
    }
   ],
   "source": [
    "# Объединим таблицы методом merge()\n",
    "one_object_district = one_object.merge(district_data, on='street', how='inner')\n",
    "\n",
    "# Сгруппируем данные по районам и количество объектов в каждом из них методом groupby()\n",
    "one_object_district = one_object_district.groupby(['okrug', 'area']).\\\n",
    "                    agg({'object_count': 'count'}).\\\n",
    "                    sort_values(by='object_count', ascending=False).\\\n",
    "                    reset_index()\n",
    "\n",
    "# Переименуем названия столбцов в таблице\n",
    "one_object_district = one_object_district.rename(columns={'object_count':'street_count'}) \n",
    "\n",
    "# Выведем на экран полученный результат\n",
    "one_object_district.sample(5)"
   ]
  },
  {
   "cell_type": "code",
   "execution_count": 30,
   "metadata": {},
   "outputs": [
    {
     "name": "stdout",
     "output_type": "stream",
     "text": [
      "Количество районов Москвы через которые проходят улицы с одним объектом: 100\n"
     ]
    }
   ],
   "source": [
    "# Найдем количество районов через которые проходят улицы с одним объектом\n",
    "print('Количество районов Москвы через которые проходят улицы с одним объектом:', len(one_object_district))"
   ]
  },
  {
   "cell_type": "markdown",
   "metadata": {},
   "source": [
    "Ниже выведем все названия районов Москвы, через которые проходят улицы с одним заведением и далее посмотрим как эти районы распределены по округам."
   ]
  },
  {
   "cell_type": "code",
   "execution_count": 40,
   "metadata": {},
   "outputs": [
    {
     "data": {
      "image/png": "[encoded data removed]",
      "text/plain": [
       "<Figure size 1152x576 with 1 Axes>"
      ]
     },
     "metadata": {
      "needs_background": "light"
     },
     "output_type": "display_data"
    }
   ],
   "source": [
    "# Построим столбчатую диаграмму для большей наглядности\n",
    "plt.figure(figsize=(16,8)) \n",
    "ax=sns.barplot(x='area', y='street_count', data=one_object_district, palette='coolwarm')\n",
    "sns.despine()\n",
    "ax.set_title('Районы Москвы через которые проходят улицы с одним объектом')\n",
    "ax.set_xlabel('')\n",
    "ax.set_ylabel('Количество улиц по районам') \n",
    "plt.xticks(rotation=90)\n",
    "plt.show()"
   ]
  },
  {
   "cell_type": "code",
   "execution_count": 32,
   "metadata": {},
   "outputs": [
    {
     "data": {
      "text/html": [
       "<div>\n",
       "<style scoped>\n",
       "    .dataframe tbody tr th:only-of-type {\n",
       "        vertical-align: middle;\n",
       "    }\n",
       "\n",
       "    .dataframe tbody tr th {\n",
       "        vertical-align: top;\n",
       "    }\n",
       "\n",
       "    .dataframe thead th {\n",
       "        text-align: right;\n",
       "    }\n",
       "</style>\n",
       "<table border=\"1\" class=\"dataframe\">\n",
       "  <thead>\n",
       "    <tr style=\"text-align: right;\">\n",
       "      <th></th>\n",
       "      <th>0</th>\n",
       "      <th>1</th>\n",
       "      <th>2</th>\n",
       "      <th>3</th>\n",
       "      <th>4</th>\n",
       "      <th>5</th>\n",
       "      <th>6</th>\n",
       "      <th>7</th>\n",
       "      <th>8</th>\n",
       "      <th>9</th>\n",
       "    </tr>\n",
       "  </thead>\n",
       "  <tbody>\n",
       "    <tr>\n",
       "      <td>okrug</td>\n",
       "      <td>СВАО</td>\n",
       "      <td>ВАО</td>\n",
       "      <td>САО</td>\n",
       "      <td>ЗАО</td>\n",
       "      <td>ЦАО</td>\n",
       "      <td>ЮВАО</td>\n",
       "      <td>ЮЗАО</td>\n",
       "      <td>ЮАО</td>\n",
       "      <td>СЗАО</td>\n",
       "      <td>Зеленоград</td>\n",
       "    </tr>\n",
       "    <tr>\n",
       "      <td>district_count</td>\n",
       "      <td>15</td>\n",
       "      <td>14</td>\n",
       "      <td>14</td>\n",
       "      <td>10</td>\n",
       "      <td>10</td>\n",
       "      <td>10</td>\n",
       "      <td>9</td>\n",
       "      <td>8</td>\n",
       "      <td>7</td>\n",
       "      <td>3</td>\n",
       "    </tr>\n",
       "  </tbody>\n",
       "</table>\n",
       "</div>"
      ],
      "text/plain": [
       "                   0    1    2    3    4     5     6    7     8           9\n",
       "okrug           СВАО  ВАО  САО  ЗАО  ЦАО  ЮВАО  ЮЗАО  ЮАО  СЗАО  Зеленоград\n",
       "district_count    15   14   14   10   10    10     9    8     7           3"
      ]
     },
     "execution_count": 32,
     "metadata": {},
     "output_type": "execute_result"
    }
   ],
   "source": [
    "# Сгруппируем данные по районам и округам, в которых они находятся методом groupby()\n",
    "okrug_distrist_count = one_object_district.\\\n",
    "                        groupby('okrug').agg({'street_count': 'count'}).\\\n",
    "                        sort_values(by='street_count', ascending=False).\\\n",
    "                        reset_index()\n",
    "\n",
    "# Переименуем названия столбцов\n",
    "okrug_distrist_count.columns = ['okrug', 'district_count']\n",
    "\n",
    "# Выведем результаты на экран\n",
    "okrug_distrist_count.transpose()"
   ]
  },
  {
   "cell_type": "markdown",
   "metadata": {},
   "source": [
    "Общее число улиц Москвы, на которых расположен всего 1 объект общественного питания - 573, при этом они проходят через 100 районов столичного региона. Если посмотреть на принадлежность данных районов к округам, то наибольшее их количество находится в Северо-Восточном, Восточном и Северном округах.  \n",
    "Основываясь на данных результатах, можем проследить тенденцию, что улицы с наибольшим и наименьшим количеством заведений расположены, как правило, в противоположенных частях города."
   ]
  },
  {
   "cell_type": "markdown",
   "metadata": {},
   "source": [
    "#### 2.9.  Закономерности распределения количества посадочных мест для топ-10 улиц  Москвы<a id='2.9.'></a> "
   ]
  },
  {
   "cell_type": "markdown",
   "metadata": {},
   "source": [
    "Построим диаграмму размаха, чтобы проверить, если ли какая-либо взаимосвязь между данными: числом посадочных мест и улицами Москвы, на которых находится наибольшее количество заведений."
   ]
  },
  {
   "cell_type": "code",
   "execution_count": 33,
   "metadata": {},
   "outputs": [
    {
     "data": {
      "image/png": "[encoded data removed]",
      "text/plain": [
       "<Figure size 1152x432 with 1 Axes>"
      ]
     },
     "metadata": {
      "needs_background": "light"
     },
     "output_type": "display_data"
    }
   ],
   "source": [
    "# Зададим переменную для топ-10 улиц и сделаем срез\n",
    "top_streets_list = top_streets['street'].to_list()\n",
    "top_street_seats = rest_data.query('street in @top_streets_list')\n",
    "\n",
    "# Зададим переменную для сотрировки количества посадочных мест топ-10 улиц\n",
    "grouped1 = top_street_seats.groupby(['street'])\\\n",
    "    .median()\\\n",
    "    .sort_values(by='number', ascending=False)\n",
    "\n",
    "# Построим диаграмму размаха для большей наглядности\n",
    "plt.figure(figsize=(16,6))\n",
    "ax = sns.boxplot(x='street', y='number', data=top_street_seats, palette='coolwarm', order=grouped1.index)\n",
    "ax.set_title('Распределение количества посадочных мест для улиц с большим количеством объектов')\n",
    "ax.set_xlabel('')\n",
    "ax.set_ylabel('Количество посадочных мест')\n",
    "ax.set_ylim(-20, 250)\n",
    "plt.xticks(rotation=60)\n",
    "plt.show()"
   ]
  },
  {
   "cell_type": "markdown",
   "metadata": {},
   "source": [
    "Выбор собственниками для своих заведений локаций наложил определенный отпечаток на число посадочных мест. В целом по Москве наблюдаем ситуацию, что чем престижнее район и чем больше заведений сосредоточено на его улицах, тем меньше их вместимость. Помимо этого, скорее всего свою роль здесь играет еще стоимость квадратного метра.  \n",
    "Из графика мы можем отчетливо увидеть, что число посадочных мест в заведениях топ-10 улиц в среднем не превышает 50, а чаще всего этот показатель варьируется от 30 - до 40 мест."
   ]
  },
  {
   "cell_type": "markdown",
   "metadata": {},
   "source": [
    "### Шаг 3. Презентация"
   ]
  },
  {
   "cell_type": "markdown",
   "metadata": {},
   "source": [
    "Презентация: <https://yadi.sk/i/VZjhVYHHyq9wmA> "
   ]
  },
  {
   "cell_type": "markdown",
   "metadata": {},
   "source": [
    "### Общий вывод"
   ]
  },
  {
   "cell_type": "markdown",
   "metadata": {},
   "source": [
    "Финализируя результаты проведенного исследования отметим, что первое место по количеству заведений на московском рынке общепита среди всех типов объектов заняли - кафе. Их доля близка к половине всего объема рынка Москвы.    \n",
    "Если более детально рассмотреть вместимость объектов общественного питания на рынке, то лидирующие позиции среди типов заведений занимают столовые - в среднем этот показатель немного превышает 100 мест.   \n",
    "В виду того, что рынок общепита продолжает активно развиваться и прирастать новыми уникальными заведениями с авторскими концепциями, большую популярность получили несетевые объекты, на них приходится более 80% доли рынка. В четыре раза меньше заведений сосредоточено в руках сетевых компаний и, как правило, на столичном рынке прослеживается тенденция присутствия в среднем 2-3 заведений одной сети с небольшим количество посадочных мест.   \n",
    "Фаст-фуд – самый популярный формат объектов общественного питания. Более 40% заведений принадлежат сетям быстрого питания.   \n",
    "По географии расположения объектов можем выделить следующую закономерность: улицы с наибольшим количеством заведений находятся в Южном, Юго-Западном, Западном и Центральном АО; улицы с 1 заведением имеют больший территориальный охват районов Москвы и в основном находятся в строго противоположной части города - Северо-Восточном, Восточном и Северном АО.  \n",
    "В целом по Москве можем наблюдаем ситуацию, что чем престижнее район и чем больше заведений сосредоточено на его улицах, тем меньше их вместимость. В среднем данный показатель равен 30-40 объектам и не превышает 50."
   ]
  },
  {
   "cell_type": "markdown",
   "metadata": {},
   "source": [
    "### Рекомендации"
   ]
  },
  {
   "cell_type": "markdown",
   "metadata": {},
   "source": [
    "Довольно сложно в данной ситуации дать конкретные рекомендации и советы к действию, так как исследование было довольно общим, но вполне можно указать вектор развития и нюансы, на которые стоит обратить свое внимание при принятии решений.  \n",
    "Начнем с того, что решение открыть именно небольшое кафе - весьма правильное, т.к. наибольшей популярностью среди потребителей пользуется именно этот тип заведения, а средней показатель количества посадочных мест для кафе - около 30, что вполне можно отнести к характеристике - небольшое.  \n",
    "Из описания данного проекта становится понятно, что он не будет принадлежать одному из сетевых брендов и здесь я снова соглашусь, что этот подход будет вполне оправданным, т.к. несетевые предприятия общественного питания - самый динамично развивающийся сегмент московского рынка. Такая динамика возникла благодаря тому, что потребитель пресытился популярным предложением сетевых компаний и один из главных для них запросов – это новые впечатления. Идея заведения с обслуживанием роботами - отличное нестандартное решение, которое безусловно найдет отклик у московских потребителей.  \n",
    "Относительно географии расположения кафе, хотелось бы посоветовать обратить внимание на улицы с наибольшим количеством заведений, т.к. такое плотное сосредоточение объектов скорее всего обусловлено высоким на них спросом. Однако, здесь стоит особое внимание уделить вопросу высокой стоимости аренды площадей, что повысит общую стоимость проекта и увеличит срок окупаемости. Отдельно при выборе локации особое внимание следует обратить на предложения других близлежащих заведений на наличие схожей концепции и предложений.  \n",
    "В целом идея кафе с роботами весьма инновационна и имеет большие перспективы в будущем."
   ]
  }
 ],
 "metadata": {
  "kernelspec": {
   "display_name": "Python 3",
   "language": "python",
   "name": "python3"
  },
  "language_info": {
   "codemirror_mode": {
    "name": "ipython",
    "version": 3
   },
   "file_extension": ".py",
   "mimetype": "text/x-python",
   "name": "python",
   "nbconvert_exporter": "python",
   "pygments_lexer": "ipython3",
   "version": "3.7.8"
  },
  "toc": {
   "base_numbering": 1,
   "nav_menu": {},
   "number_sections": false,
   "sideBar": true,
   "skip_h1_title": false,
   "title_cell": "Table of Contents",
   "title_sidebar": "Contents",
   "toc_cell": false,
   "toc_position": {},
   "toc_section_display": true,
   "toc_window_display": false
  }
 },
 "nbformat": 4,
 "nbformat_minor": 2
}
